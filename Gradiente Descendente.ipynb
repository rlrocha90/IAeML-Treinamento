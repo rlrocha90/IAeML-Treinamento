{
  "metadata": {
    "language_info": {
      "codemirror_mode": {
        "name": "python",
        "version": 3
      },
      "file_extension": ".py",
      "mimetype": "text/x-python",
      "name": "python",
      "nbconvert_exporter": "python",
      "pygments_lexer": "ipython3",
      "version": "3.8"
    },
    "kernelspec": {
      "name": "python",
      "display_name": "Python (Pyodide)",
      "language": "python"
    }
  },
  "nbformat_minor": 4,
  "nbformat": 4,
  "cells": [
    {
      "cell_type": "markdown",
      "source": "# Gradiente Descendente - Visualização",
      "metadata": {}
    },
    {
      "cell_type": "code",
      "source": "import numpy as np\nimport matplotlib.pyplot as plt\n\n\nX = 2 * np.random.rand(100, 1)\ny = 4 + 3 * X + np.random.randn(100, 1)\n\nX_b = np.c_[np.ones((100, 1)), X]  # add x0 = 1 to each instance\nX_new = np.array([[0], [2]])\nX_new_b = np.c_[np.ones((2, 1)), X_new]  # add x0 = 1 to each instance\n\n\neta = 0.01\nn_iterations = 1000\nm = 100\ntheta = np.random.randn(2,1)\n\nfor iteration in range(n_iterations):\n    gradients = 2/m * X_b.T.dot(X_b.dot(theta) - y)\n    theta = theta - eta * gradients\n\n\nprint(theta)\nX_new_b.dot(theta)\n\ntheta_path_bgd = []\n\n\ndef plot_gradient_descent(theta, eta, theta_path=None):\n    m = len(X_b)\n    plt.plot(X, y, \"b.\")\n    n_iterations = 1000\n    for iteration in range(n_iterations):\n        if iteration < 10: #testar outros valores para ver a evolução!!!\n            y_predict = X_new_b.dot(theta)\n            style = \"b-\" if iteration > 0 else \"r--\"\n            plt.plot(X_new, y_predict, style)\n        gradients = 2/m * X_b.T.dot(X_b.dot(theta) - y)\n        theta = theta - eta * gradients\n        if theta_path is not None:\n            theta_path.append(theta)\n    plt.xlabel(\"$x_1$\", fontsize=14)\n    plt.axis([0, 2, 0, 15])\n    plt.title(r\"$\\eta = {}$\".format(eta), fontsize=16)\n\n\nnp.random.seed(42)\ntheta = np.random.randn(2, 1)  # random initialization\n\nplt.figure(figsize=(10, 4))\nplt.subplot(131)\nplot_gradient_descent(theta, eta=0.02)\nplt.ylabel(\"$y$\", rotation=0, fontsize=14)\nplt.subplot(132)\nplot_gradient_descent(theta, eta=0.1, theta_path=theta_path_bgd)\nplt.subplot(133)\nplot_gradient_descent(theta, eta=0.5)\n\nplt.show()\n",
      "metadata": {
        "trusted": true
      },
      "execution_count": null,
      "outputs": []
    },
    {
      "cell_type": "code",
      "source": "",
      "metadata": {},
      "execution_count": null,
      "outputs": []
    }
  ]
}