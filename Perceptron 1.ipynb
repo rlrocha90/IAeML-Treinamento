{
  "metadata": {
    "language_info": {
      "codemirror_mode": {
        "name": "python",
        "version": 3
      },
      "file_extension": ".py",
      "mimetype": "text/x-python",
      "name": "python",
      "nbconvert_exporter": "python",
      "pygments_lexer": "ipython3",
      "version": "3.8"
    },
    "kernelspec": {
      "name": "python",
      "display_name": "Python (Pyodide)",
      "language": "python"
    }
  },
  "nbformat_minor": 4,
  "nbformat": 4,
  "cells": [
    {
      "cell_type": "markdown",
      "source": "# Um Perceptron",
      "metadata": {}
    },
    {
      "cell_type": "markdown",
      "source": "### Dados",
      "metadata": {}
    },
    {
      "cell_type": "code",
      "source": "import numpy as np\nimport matplotlib.pyplot as plt\n\n\nseed = 8\nnp.random.seed(seed)\n\n# Número de Exemplos\nN = 1000\n\n# Criar Atributos\nx1 = np.random.randint(0,2,N, dtype=bool).reshape(N,1)\nx2 = np.random.randint(0,2,N, dtype=bool).reshape(N,1)\n\n# Função objetivo (XOR)\ny = x1 ^ x2\n\n# Adicionar Ruído aos dados\nx1 = x1 + 0.1*np.random.randn(N,1)\nx2 = x2 + 0.1*np.random.randn(N,1)\n\n# Concatenar os atributos em uma matriz X\nX = np.c_[x1, x2]\n\nidx0 = np.argwhere(y.ravel() == 0)\nidx1 = np.argwhere(y.ravel() == 1)\n\nplt.plot(x1[idx0.ravel()], x2[idx0.ravel()], '.', label='Class 0')\nplt.plot(x1[idx1.ravel()], x2[idx1.ravel()], 'rx', label='Class 1')\nplt.xlabel('$x_1$', fontsize=14)\nplt.ylabel('$x_2$', fontsize=14)\nplt.title('Noisy XOR function')\nplt.legend()\nplt.show()",
      "metadata": {
        "trusted": true
      },
      "execution_count": null,
      "outputs": []
    },
    {
      "cell_type": "markdown",
      "source": "### Tratando os dados",
      "metadata": {}
    },
    {
      "cell_type": "code",
      "source": "from sklearn.model_selection import train_test_split\n\n# Dividir vetores em subconjuntos de treinamento e validação\nX_train, X_test, y_train, y_test = train_test_split(X, y, test_size=0.3, random_state=seed)\n\n# Adicionar bias à matriz de características\nX_train = np.c_[np.ones((len(y_train), 1)), X_train]\n\n# Adicionar bias à matriz de características\nX_test = np.c_[np.ones((len(y_test), 1)), X_test]",
      "metadata": {
        "trusted": true
      },
      "execution_count": null,
      "outputs": []
    },
    {
      "cell_type": "markdown",
      "source": "### Instanciando o Perceptron",
      "metadata": {}
    },
    {
      "cell_type": "code",
      "source": "from sklearn.linear_model import Perceptron\nfrom sklearn.metrics import accuracy_score\n\nper = Perceptron(fit_intercept=False, random_state=seed)\nper.fit(X_train, y_train.ravel())\n\ny_pred = per.predict(X_test)\n\nacc = accuracy_score(y_test, y_pred)\nprint('Acurácia:',acc)",
      "metadata": {},
      "execution_count": null,
      "outputs": []
    },
    {
      "cell_type": "markdown",
      "source": "### Região de decisão",
      "metadata": {}
    },
    {
      "cell_type": "code",
      "source": "x_min, x_max = X[:, 0].min() - .5, X[:, 0].max() + .5\ny_min, y_max = X[:, 1].min() - .5, X[:, 1].max() + .5\nh = .01  # step size in the mesh\nxx, yy = np.meshgrid(np.arange(x_min, x_max, h), np.arange(y_min, y_max, h))\n\nattribute_matrix = np.c_[np.ones((len(xx.ravel()), 1)), xx.ravel(), yy.ravel()]\n# predição\nZ = per.predict(attribute_matrix)",
      "metadata": {
        "trusted": true
      },
      "execution_count": null,
      "outputs": []
    },
    {
      "cell_type": "markdown",
      "source": "### Saída",
      "metadata": {}
    },
    {
      "cell_type": "code",
      "source": "Z = Z.reshape(xx.shape)\nplt.pcolormesh(xx, yy, Z, cmap=plt.cm.Greens, shading='auto')\n\nplt.plot(X[idx0,0], X[idx0,1], '.', markersize=8, label='Class 0')\nplt.plot(X[idx1,0], X[idx1,1], 'rx', markersize=8, label='Class 1')\nplt.xlabel('$x_1$', fontsize=14)\nplt.ylabel('$x_2$', fontsize=14)\n\nplt.xlim(xx.min(), xx.max())\nplt.ylim(yy.min(), yy.max())\n\nplt.show()",
      "metadata": {
        "trusted": true
      },
      "execution_count": null,
      "outputs": []
    },
    {
      "cell_type": "markdown",
      "source": "### Predição e Matriz de Confusão",
      "metadata": {}
    },
    {
      "cell_type": "code",
      "source": "from sklearn.metrics import confusion_matrix\nimport seaborn as sns\n\ny_pred = per.predict(X_test)\n\nmat = confusion_matrix(y_test, y_pred)\nsns.heatmap(mat.T, square=True, annot=True, fmt='d', cbar=False, xticklabels=range(2), yticklabels=range(2), cmap=\"Blues\")\nplt.xlabel('true label')\nplt.ylabel('predicted label')\nplt.show()",
      "metadata": {},
      "execution_count": null,
      "outputs": []
    }
  ]
}