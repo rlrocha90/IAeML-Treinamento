{
  "metadata": {
    "language_info": {
      "codemirror_mode": {
        "name": "python",
        "version": 3
      },
      "file_extension": ".py",
      "mimetype": "text/x-python",
      "name": "python",
      "nbconvert_exporter": "python",
      "pygments_lexer": "ipython3",
      "version": "3.8"
    },
    "kernelspec": {
      "name": "python",
      "display_name": "Python (Pyodide)",
      "language": "python"
    }
  },
  "nbformat_minor": 4,
  "nbformat": 4,
  "cells": [
    {
      "cell_type": "markdown",
      "source": "# Regressão Logística",
      "metadata": {}
    },
    {
      "cell_type": "markdown",
      "source": "### Dataset Íris",
      "metadata": {}
    },
    {
      "cell_type": "code",
      "source": "from sklearn import datasets\n\niris = datasets.load_iris()\nlist(iris.keys())",
      "metadata": {
        "trusted": true
      },
      "execution_count": null,
      "outputs": []
    },
    {
      "cell_type": "markdown",
      "source": "### Apenas uma feature",
      "metadata": {}
    },
    {
      "cell_type": "code",
      "source": "X = iris[\"data\"][:, 3:]  # pétala width\ny = (iris[\"target\"] == 2).astype(int)  # 1 se Iris-Virginica, se não 0",
      "metadata": {
        "trusted": true
      },
      "execution_count": null,
      "outputs": []
    },
    {
      "cell_type": "markdown",
      "source": "### Regressão Logística via função",
      "metadata": {}
    },
    {
      "cell_type": "code",
      "source": "from sklearn.linear_model import LogisticRegression\n\nlog_reg = LogisticRegression(solver=\"liblinear\", random_state=42)\nlog_reg.fit(X, y)",
      "metadata": {
        "trusted": true
      },
      "execution_count": null,
      "outputs": []
    },
    {
      "cell_type": "markdown",
      "source": "### Computando probabilidade para vários valores de X...",
      "metadata": {}
    },
    {
      "cell_type": "code",
      "source": "import numpy as np\n\nX_new = np.linspace(0, 3, 1000).reshape(-1, 1)\ny_proba = log_reg.predict_proba(X_new)\ndecision_boundary = X_new[y_proba[:, 1] >= 0.5][0]",
      "metadata": {
        "trusted": true
      },
      "execution_count": null,
      "outputs": []
    },
    {
      "cell_type": "code",
      "source": "import matplotlib.pyplot as plt\n\nplt.figure(figsize=(8, 4))\nplt.plot(X_new, y_proba[:, 1], \"g-\", linewidth=2, label=\"Iris-Virginica\")\nplt.plot(X_new, y_proba[:, 0], \"b--\", linewidth=2, label=\"Não Iris-Virginica\")\nplt.xlabel(\"Largura Pétala (cm)\", fontsize=10)\nplt.ylabel(\"Probabilidade\", fontsize=10)\nplt.legend(loc=\"center left\", fontsize=14)\nplt.show()",
      "metadata": {
        "trusted": true
      },
      "execution_count": null,
      "outputs": []
    },
    {
      "cell_type": "markdown",
      "source": "### Testando a boda da decisão",
      "metadata": {}
    },
    {
      "cell_type": "code",
      "source": "db = log_reg.predict([[1.7], [1.5]])\nprint(db)",
      "metadata": {},
      "execution_count": null,
      "outputs": []
    }
  ]
}