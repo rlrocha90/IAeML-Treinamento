{
  "metadata": {
    "language_info": {
      "codemirror_mode": {
        "name": "python",
        "version": 3
      },
      "file_extension": ".py",
      "mimetype": "text/x-python",
      "name": "python",
      "nbconvert_exporter": "python",
      "pygments_lexer": "ipython3",
      "version": "3.8"
    },
    "kernelspec": {
      "name": "python",
      "display_name": "Python (Pyodide)",
      "language": "python"
    }
  },
  "nbformat_minor": 4,
  "nbformat": 4,
  "cells": [
    {
      "cell_type": "markdown",
      "source": "# Regressão Linear 2",
      "metadata": {}
    },
    {
      "cell_type": "markdown",
      "source": "### Importar dataset Diabetes",
      "metadata": {}
    },
    {
      "cell_type": "code",
      "source": "import pandas as pd\nfrom sklearn import datasets, linear_model\nfrom sklearn.preprocessing import StandardScaler\n\ndiabetes_X, diabetes_y = datasets.load_diabetes(return_X_y=True)\nX = pd.DataFrame(diabetes_X)\ny = pd.DataFrame(diabetes_y)\nscaler = StandardScaler()\ny_scale = scaler.fit_transform(y)",
      "metadata": {
        "trusted": true
      },
      "execution_count": null,
      "outputs": []
    },
    {
      "cell_type": "markdown",
      "source": "### Correlações",
      "metadata": {}
    },
    {
      "cell_type": "code",
      "source": "import matplotlib.pyplot as plt\n\nfor i in range(10):\n    print(\"target com coluna \", i, \" :\", y.corrwith(X[i]))\n    plt.subplot(4, 3, i+1)\n    plt.scatter(X[i], y)\n    plt.ylabel(\"Target\")\n    plt.xlabel(i)\n\nplt.show()",
      "metadata": {
        "trusted": true
      },
      "execution_count": null,
      "outputs": []
    },
    {
      "cell_type": "code",
      "source": "import numpy as np\n\ndiabetes_X = diabetes_X[:, np.newaxis, 0]",
      "metadata": {
        "trusted": true
      },
      "execution_count": null,
      "outputs": []
    },
    {
      "cell_type": "markdown",
      "source": "### Dividir os dados em Treinamento e Teste (manualmente)",
      "metadata": {}
    },
    {
      "cell_type": "code",
      "source": "diabetes_X_train = diabetes_X[:-20]\ndiabetes_X_test = diabetes_X[-20:]",
      "metadata": {
        "trusted": true
      },
      "execution_count": null,
      "outputs": []
    },
    {
      "cell_type": "markdown",
      "source": "### Dividir os dados em Treinamento e Teste (manualmente)",
      "metadata": {}
    },
    {
      "cell_type": "code",
      "source": "diabetes_y_train = diabetes_y[:-20]\ndiabetes_y_test = diabetes_y[-20:]",
      "metadata": {
        "trusted": true
      },
      "execution_count": null,
      "outputs": []
    },
    {
      "cell_type": "markdown",
      "source": "### Criar um objeto para regressão Linear",
      "metadata": {}
    },
    {
      "cell_type": "code",
      "source": "from sklearn import linear_model\n\nregr = linear_model.LinearRegression()",
      "metadata": {
        "trusted": true
      },
      "execution_count": null,
      "outputs": []
    },
    {
      "cell_type": "markdown",
      "source": "### Treinar o modelo",
      "metadata": {}
    },
    {
      "cell_type": "code",
      "source": "regr.fit(diabetes_X_train, diabetes_y_train)",
      "metadata": {
        "trusted": true
      },
      "execution_count": null,
      "outputs": []
    },
    {
      "cell_type": "markdown",
      "source": "### Fazer as predições no conjunto de testes",
      "metadata": {}
    },
    {
      "cell_type": "code",
      "source": "diabetes_y_pred = regr.predict(diabetes_X_test)",
      "metadata": {
        "trusted": true
      },
      "execution_count": null,
      "outputs": []
    },
    {
      "cell_type": "markdown",
      "source": "### Predições no conjunto de treinamento",
      "metadata": {}
    },
    {
      "cell_type": "code",
      "source": "dia_y_train = regr.predict(diabetes_X_train)",
      "metadata": {
        "trusted": true
      },
      "execution_count": null,
      "outputs": []
    },
    {
      "cell_type": "markdown",
      "source": "### Os coeficientes",
      "metadata": {}
    },
    {
      "cell_type": "code",
      "source": "print(\"Coefficients: \\n\", regr.coef_)\nprint(\"Interceptação: \\n\", regr.intercept_)",
      "metadata": {
        "trusted": true
      },
      "execution_count": null,
      "outputs": []
    },
    {
      "cell_type": "markdown",
      "source": "### O mean squared error",
      "metadata": {}
    },
    {
      "cell_type": "code",
      "source": "from sklearn.metrics import mean_squared_error\nprint(\"Mean squared error: %.2f\" % mean_squared_error(diabetes_y_test, diabetes_y_pred))",
      "metadata": {
        "trusted": true
      },
      "execution_count": null,
      "outputs": []
    },
    {
      "cell_type": "markdown",
      "source": "### O coeficiente de determinação: 1 é predição perfeita",
      "metadata": {}
    },
    {
      "cell_type": "code",
      "source": "from sklearn.metrics import r2_score\nprint(\"Coefficient of determination: %.2f\" % r2_score(diabetes_y_test, diabetes_y_pred))",
      "metadata": {
        "trusted": true
      },
      "execution_count": null,
      "outputs": []
    },
    {
      "cell_type": "markdown",
      "source": "### Saídas",
      "metadata": {}
    },
    {
      "cell_type": "code",
      "source": "plt.scatter(diabetes_X_train, diabetes_y_train, color=\"black\")\nplt.plot(diabetes_X_train, dia_y_train, color=\"blue\", linewidth=3)\n\nplt.xticks(())\nplt.yticks(())\n\nplt.show()",
      "metadata": {},
      "execution_count": null,
      "outputs": []
    }
  ]
}