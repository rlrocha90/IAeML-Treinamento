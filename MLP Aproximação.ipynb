{
  "metadata": {
    "language_info": {
      "codemirror_mode": {
        "name": "python",
        "version": 3
      },
      "file_extension": ".py",
      "mimetype": "text/x-python",
      "name": "python",
      "nbconvert_exporter": "python",
      "pygments_lexer": "ipython3",
      "version": "3.8"
    },
    "kernelspec": {
      "name": "python",
      "display_name": "Python (Pyodide)",
      "language": "python"
    }
  },
  "nbformat_minor": 4,
  "nbformat": 4,
  "cells": [
    {
      "cell_type": "markdown",
      "source": "# Aproximação com MLP",
      "metadata": {}
    },
    {
      "cell_type": "markdown",
      "source": "### Geração dos Dados",
      "metadata": {}
    },
    {
      "cell_type": "code",
      "source": "import numpy as np\nimport matplotlib.pyplot as plt\nfrom sklearn.model_selection import train_test_split\n\nseed = 42\nnp.random.seed(seed)\nN = 1000\nx = np.linspace(-1,1,N).reshape(N,1)\ny = x**2 + x**3 + np.random.randn(1000, 1)\n\nplt.plot(x,y)\nplt.xlabel('x', fontsize=14)\nplt.ylabel('y', fontsize=14)\nplt.grid()\nplt.show()\n\nx_train, x_test, y_train, y_test = train_test_split(x, y, test_size=0.3, random_state=seed)",
      "metadata": {
        "trusted": true
      },
      "execution_count": null,
      "outputs": []
    },
    {
      "cell_type": "markdown",
      "source": "### Hiperparâmetros para GridSearch",
      "metadata": {}
    },
    {
      "cell_type": "code",
      "source": "parameters = {\n    'hidden_layer_sizes':[(50,), (100,),],\n    'activation':['logistic', 'tanh', 'relu'],\n    'solver':['lbfgs', 'adam'],\n}",
      "metadata": {
        "trusted": true
      },
      "execution_count": null,
      "outputs": []
    },
    {
      "cell_type": "markdown",
      "source": "### Instanciando um MLP",
      "metadata": {}
    },
    {
      "cell_type": "code",
      "source": "from sklearn.model_selection import GridSearchCV\nfrom sklearn.neural_network import MLPRegressor\n\nreg = MLPRegressor(max_iter=5000)\ngs = GridSearchCV(reg, parameters, cv=10)\ngs.fit(x_train, y_train.ravel())\nprint(gs.best_params_)",
      "metadata": {
        "trusted": true
      },
      "execution_count": null,
      "outputs": []
    },
    {
      "cell_type": "markdown",
      "source": "### Predição",
      "metadata": {}
    },
    {
      "cell_type": "code",
      "source": "y_pred = gs.predict(x_test)",
      "metadata": {
        "trusted": true
      },
      "execution_count": null,
      "outputs": []
    },
    {
      "cell_type": "markdown",
      "source": "### Calcula métrica",
      "metadata": {}
    },
    {
      "cell_type": "code",
      "source": "from sklearn.metrics import mean_squared_error\n\nmse = mean_squared_error(y_pred, y_test)\nprint('MSE:', mse)",
      "metadata": {
        "trusted": true
      },
      "execution_count": null,
      "outputs": []
    },
    {
      "cell_type": "markdown",
      "source": "### Comparação entre função original e predição",
      "metadata": {}
    },
    {
      "cell_type": "code",
      "source": "plt.plot(x,y,'r',label='Original function')\nplt.plot(x_test,y_pred,'.',label='Learned function')\nplt.xlabel('x', fontsize=14)\nplt.ylabel('y', fontsize=14)\nplt.legend()\nplt.grid()\nplt.show()",
      "metadata": {},
      "execution_count": null,
      "outputs": []
    }
  ]
}