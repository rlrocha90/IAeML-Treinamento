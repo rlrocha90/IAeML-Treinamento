{
  "metadata": {
    "language_info": {
      "codemirror_mode": {
        "name": "python",
        "version": 3
      },
      "file_extension": ".py",
      "mimetype": "text/x-python",
      "name": "python",
      "nbconvert_exporter": "python",
      "pygments_lexer": "ipython3",
      "version": "3.8"
    },
    "kernelspec": {
      "name": "python",
      "display_name": "Python (Pyodide)",
      "language": "python"
    }
  },
  "nbformat_minor": 4,
  "nbformat": 4,
  "cells": [
    {
      "cell_type": "markdown",
      "source": "# Regressão Linear com Gradiente Descendente Estocástico",
      "metadata": {}
    },
    {
      "cell_type": "markdown",
      "source": "### Função sintética",
      "metadata": {}
    },
    {
      "cell_type": "code",
      "source": "import numpy as np\n\nX = 2 * np.random.rand(100, 1)\ny = 4 + 3 * X + np.random.randn(100, 1)",
      "metadata": {},
      "execution_count": null,
      "outputs": []
    },
    {
      "cell_type": "markdown",
      "source": "### Ajustando o modelo",
      "metadata": {}
    },
    {
      "cell_type": "code",
      "source": "from sklearn.linear_model import SGDRegressor\n\nsgd_reg = SGDRegressor(max_iter=200, tol=-np.infty, penalty='l2', eta0=0.1, random_state=42)\nsgd_reg.fit(X, y.ravel())",
      "metadata": {
        "trusted": true
      },
      "execution_count": null,
      "outputs": []
    },
    {
      "cell_type": "markdown",
      "source": "### Saída",
      "metadata": {}
    },
    {
      "cell_type": "code",
      "source": "print(\"w0 e w1: \", sgd_reg.intercept_, sgd_reg.coef_)\nprint(\"score: \", sgd_reg.score(X, y))",
      "metadata": {},
      "execution_count": null,
      "outputs": []
    }
  ]
}