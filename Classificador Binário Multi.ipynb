{
  "metadata": {
    "language_info": {
      "codemirror_mode": {
        "name": "python",
        "version": 3
      },
      "file_extension": ".py",
      "mimetype": "text/x-python",
      "name": "python",
      "nbconvert_exporter": "python",
      "pygments_lexer": "ipython3",
      "version": "3.8"
    },
    "kernelspec": {
      "name": "python",
      "display_name": "Python (Pyodide)",
      "language": "python"
    }
  },
  "nbformat_minor": 4,
  "nbformat": 4,
  "cells": [
    {
      "cell_type": "markdown",
      "source": "# Classificador Binário Multiclasse",
      "metadata": {}
    },
    {
      "cell_type": "markdown",
      "source": "### Importar dataset Mnist",
      "metadata": {}
    },
    {
      "cell_type": "code",
      "source": "from sklearn.datasets import fetch_openml\nimport numpy as np\n\nmnist = fetch_openml('mnist_784', version=1, cache=True, as_frame=False)\nmnist.target = mnist.target.astype(np.int8)\n\nX, y = mnist[\"data\"], mnist[\"target\"]\n\nnp.save('mnistX', X)\nnp.save('mnisty', y)\n\nX_train, X_test, y_train, y_test = X[:60000], X[60000:], y[:60000], y[60000:]\nshuffle_index = np.random.permutation(60000)\nX_train, y_train = X_train[shuffle_index], y_train[shuffle_index]",
      "metadata": {
        "trusted": true
      },
      "execution_count": null,
      "outputs": []
    },
    {
      "cell_type": "markdown",
      "source": "### Classificador SVM - com SGD",
      "metadata": {}
    },
    {
      "cell_type": "markdown",
      "source": "#### Ajustando o modelo",
      "metadata": {}
    },
    {
      "cell_type": "code",
      "source": "from sklearn.linear_model import SGDClassifier\n\nsgd_clf = SGDClassifier(loss='hinge', max_iter=5, tol=-np.infty, random_state=42)\nsgd_clf.fit(X_train, y_train)",
      "metadata": {
        "trusted": true
      },
      "execution_count": null,
      "outputs": []
    },
    {
      "cell_type": "markdown",
      "source": "#### Verificações",
      "metadata": {}
    },
    {
      "cell_type": "code",
      "source": "classe = 4\nenum = (y_test == classe)\ndig = np.where(enum == True)\ndigito = dig[0][1] # Alterar para ver as saídas\nprint(f\"Dígito real: \", y_test[digito])",
      "metadata": {
        "trusted": true
      },
      "execution_count": null,
      "outputs": []
    },
    {
      "cell_type": "markdown",
      "source": "#### Resultados",
      "metadata": {}
    },
    {
      "cell_type": "code",
      "source": "print(f\"Classe Predita com SGDClassifier: \", sgd_clf.predict([X_test[digito]]))\nsome_digit_scores = sgd_clf.decision_function([X_test[digito]])\nprint(some_digit_scores)\nprint(f\"Posição do vetor de maior valor (0 a 9): \", np.argmax(some_digit_scores))\nprint(f\"Classe correspondente à posição do vetor: \", sgd_clf.classes_[sgd_clf.predict([X_test[digito]])]) # Altere o valor...\nprint(\"Score: \", sgd_clf.score(X_test, y_test))",
      "metadata": {
        "trusted": true
      },
      "execution_count": null,
      "outputs": []
    },
    {
      "cell_type": "markdown",
      "source": "#### Validação Cruzada",
      "metadata": {}
    },
    {
      "cell_type": "code",
      "source": "from sklearn.model_selection import cross_val_score\n\nscores = cross_val_score(sgd_clf, X_train, y_train, cv=3, scoring=\"accuracy\")\nprint(\"Scores: \", scores)\nprint(\"%0.2f acurácia com um desvio padrão de %0.2f\" % (scores.mean(), scores.std()))",
      "metadata": {
        "trusted": true
      },
      "execution_count": null,
      "outputs": []
    },
    {
      "cell_type": "markdown",
      "source": "#### Classificador SVM - Um contra Um - SGD",
      "metadata": {}
    },
    {
      "cell_type": "code",
      "source": "from sklearn.multiclass import OneVsOneClassifier\n\novo_clf = OneVsOneClassifier(SGDClassifier(loss='hinge', max_iter=5, tol=-np.infty, random_state=42))\novo_clf.fit(X_train, y_train)\nprint(f\"Classe Predita com OneVsOne Classifier: \", ovo_clf.predict([X_test[digito]]))\nprint(f\"Quantidade de estimadores: \", len(ovo_clf.estimators_))\nprint(\"Score: \", ovo_clf.score(X_test, y_test))",
      "metadata": {
        "trusted": true
      },
      "execution_count": null,
      "outputs": []
    },
    {
      "cell_type": "markdown",
      "source": "#### Classificador SVM - Um contra todos - SGD",
      "metadata": {}
    },
    {
      "cell_type": "code",
      "source": "from sklearn.multiclass import OneVsRestClassifier\n\nova_clf = OneVsRestClassifier(SGDClassifier(loss='hinge', max_iter=5, tol=-np.infty, random_state=42))\nova_clf.fit(X_train, y_train)\nprint(f\"Classe Predita com OneVsRest Classifier: \", ova_clf.predict([X_test[digito]]))\nprint(f\"Quantidade de estimadores: \", len(ova_clf.estimators_))\nprint(\"Score: \", ova_clf.score(X_test, y_test))",
      "metadata": {},
      "execution_count": null,
      "outputs": []
    }
  ]
}