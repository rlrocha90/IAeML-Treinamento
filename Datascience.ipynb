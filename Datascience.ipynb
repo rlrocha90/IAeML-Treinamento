{
  "metadata": {
    "language_info": {
      "codemirror_mode": {
        "name": "python",
        "version": 3
      },
      "file_extension": ".py",
      "mimetype": "text/x-python",
      "name": "python",
      "nbconvert_exporter": "python",
      "pygments_lexer": "ipython3",
      "version": "3.8"
    },
    "kernelspec": {
      "name": "python",
      "display_name": "Python (Pyodide)",
      "language": "python"
    }
  },
  "nbformat_minor": 4,
  "nbformat": 4,
  "cells": [
    {
      "cell_type": "markdown",
      "source": "# Exemplo Prática Ciência de Dados",
      "metadata": {}
    },
    {
      "cell_type": "markdown",
      "source": "### A Administração de Seguridade Social dos Estados Unidos (SSA) disponibilizou dados sobre a frequência de nomes de bebês de 1880 até o presente. Neste exemplo, vamos usar de \n\n#### Há muitas coisas que você pode querer fazer com o conjunto de dados:\n#### • Visualize a proporção de bebês com um nome específico (o seu próprio ou outro nome) ao longo do tempo\n#### • Determinar a classificação relativa de um nome\n#### • Determine os nomes mais populares em cada ano ou os nomes cuja popularidade avançou ou declinou mais\n#### • Analisar tendências em nomes: vogais, consoantes, comprimento, diversidade geral, mudanças no ortografia, primeiras e últimas letras\n#### • Analisar fontes externas de tendências: nomes bíblicos, celebridades, dados demográficos mudanças",
      "metadata": {}
    },
    {
      "cell_type": "code",
      "source": "import matplotlib.pyplot as plt\nimport pandas as pd\nimport numpy as np",
      "metadata": {
        "trusted": true
      },
      "execution_count": null,
      "outputs": []
    },
    {
      "cell_type": "code",
      "source": "url1 = \"https://raw.githubusercontent.com/rlrocha90/IAeML-Treinamento/main/names1.csv\"\nurl2 = \"https://raw.githubusercontent.com/rlrocha90/IAeML-Treinamento/main/names2.csv\"\nurl3 = \"https://raw.githubusercontent.com/rlrocha90/IAeML-Treinamento/main/names3.csv\"\nurl4 = \"https://raw.githubusercontent.com/rlrocha90/IAeML-Treinamento/main/names4.csv\"\nnames1 = pd.read_csv(url1)\nnames2 = pd.read_csv(url2) \nnames3 = pd.read_csv(url3)\nnames4 = pd.read_csv(url4)\nnames = []\nnames.append(names1)\nnames.append(names2)\nnames.append(names3)\nnames.append(names4)\nnames = pd.concat(names, axis=0, ignore_index=True)",
      "metadata": {
        "trusted": true
      },
      "execution_count": null,
      "outputs": []
    },
    {
      "cell_type": "code",
      "source": "names.head()",
      "metadata": {
        "trusted": true
      },
      "execution_count": null,
      "outputs": []
    },
    {
      "cell_type": "markdown",
      "source": "#### Com esses dados em mãos, já podemos começar a agregar os dados no nível de ano e sexo usando groupby ou pivot_table\n#### PivotTable para agregar (somar) os nascimentos por ano e sexo",
      "metadata": {}
    },
    {
      "cell_type": "code",
      "source": "total_births = names.pivot_table(\"births\", index=\"year\", columns=\"sex\", aggfunc=sum)\ntotal_births.plot(title='Total de Nascimentos por sexo e ano')\nplt.show()",
      "metadata": {},
      "execution_count": null,
      "outputs": []
    },
    {
      "cell_type": "markdown",
      "source": "#### Em seguida, vamos inserir um suporte de coluna com a fração de bebês com cada nome em relação ao número\n#### total de nascimentos. Um valor prop de 0,02 indicaria que 2 em cada 100 bebês receberam um nome específico.\n#### Assim, agrupamos os dados por ano e sexo e adicionamos a nova coluna a cada grupo:",
      "metadata": {}
    },
    {
      "cell_type": "code",
      "source": "def add_prop(group):\n    group[\"prop\"] = group[\"births\"] / group[\"births\"].sum()\n    return group\n\nnames = names.groupby([\"year\", \"sex\"]).apply(add_prop)",
      "metadata": {},
      "execution_count": null,
      "outputs": []
    },
    {
      "cell_type": "markdown",
      "source": "#### O conjunto de dados completo resultante agora tem as seguintes colunas:",
      "metadata": {}
    },
    {
      "cell_type": "code",
      "source": "print(names)",
      "metadata": {},
      "execution_count": null,
      "outputs": []
    },
    {
      "cell_type": "markdown",
      "source": "#### Ao realizar uma operação de grupo como esta, geralmente é valioso fazer uma verificação de sanidade,\n#### como verificar se a coluna prop soma 1 em todos os grupos:",
      "metadata": {}
    },
    {
      "cell_type": "code",
      "source": "print(names.groupby([\"year\", \"sex\"])[\"prop\"].sum())",
      "metadata": {},
      "execution_count": null,
      "outputs": []
    },
    {
      "cell_type": "markdown",
      "source": "#### Agora que isso está feito, vou extrair um subconjunto dos dados para facilitar uma análise mais aprofundada:\n#### os 1.000 principais nomes para cada combinação de sexo/ano. Esta é mais uma operação de grupo:",
      "metadata": {}
    },
    {
      "cell_type": "code",
      "source": "def get_top1000(group):\n    return group.sort_values(\"births\", ascending=False)[:1000]\n\ngrouped = names.groupby([\"year\", \"sex\"])\ntop1000 = grouped.apply(get_top1000)\ntop1000 = top1000.reset_index(drop=True)",
      "metadata": {},
      "execution_count": null,
      "outputs": []
    },
    {
      "cell_type": "markdown",
      "source": "#### O conjunto de dados resultante agora é um pouco menor:",
      "metadata": {}
    },
    {
      "cell_type": "code",
      "source": "print(top1000.head())",
      "metadata": {},
      "execution_count": null,
      "outputs": []
    },
    {
      "cell_type": "markdown",
      "source": "### Analisando tendências de nomes\n#### Com o conjunto de dados completo e o conjunto de dados Top 1.000 em mãos, podemos começar\n#### a analisar várias tendências de nomes de interesse. Dividir os 1.000 principais nomes nas partes de menino e menina é fácil de fazer primeiro:",
      "metadata": {}
    },
    {
      "cell_type": "code",
      "source": "boys = top1000[top1000[\"sex\"] == \"M\"]\ngirls = top1000[top1000[\"sex\"] == \"F\"]",
      "metadata": {},
      "execution_count": null,
      "outputs": []
    },
    {
      "cell_type": "markdown",
      "source": "#### Séries temporais simples, como o número de Johns ou Marys para cada ano, podem ser plotadas, mas requerem\n#### um pouco de atenção para serem mais úteis. Vamos formar uma tabela dinâmica do número total de nascimentos por ano e nome:",
      "metadata": {}
    },
    {
      "cell_type": "code",
      "source": "total_births = top1000.pivot_table(\"births\", index=\"year\", columns=\"name\", aggfunc=sum)",
      "metadata": {},
      "execution_count": null,
      "outputs": []
    },
    {
      "cell_type": "markdown",
      "source": "#### Agora, isso pode ser plotado para um punhado de nomes com o método de plotagem do DataFrame",
      "metadata": {}
    },
    {
      "cell_type": "code",
      "source": "print(\"---- informações do Total de Nascimento ----\")\nprint(total_births.info())\nsubset = total_births[[\"Anna\", \"Sarah\", \"Minnie\", \"Marilyn\"]]\nsubset.plot(subplots=True, figsize=(12, 10), title=\"Número de Nascimentos por ano\")\nplt.show()",
      "metadata": {},
      "execution_count": null,
      "outputs": []
    },
    {
      "cell_type": "markdown",
      "source": "#### Ao olhar para isso, você pode concluir que esses nomes cresceram em desuso com a população americana. Mas a história é realmente mais complicada do que isso, como será explorado na próxima seção.",
      "metadata": {}
    },
    {
      "cell_type": "markdown",
      "source": "### Medindo o aumento na diversidade de nomes\n#### Uma explicação para a diminuição das parcelas é que menos pais estão escolhendo nomes comuns para seus filhos.\n#### Essa hipótese pode ser explorada e confirmada nos dados. Uma medida é a proporção de nascimentos representados pelos 1.000 nomes mais populares, que eu agrego e gravo por ano e sexo",
      "metadata": {}
    },
    {
      "cell_type": "code",
      "source": "table = top1000.pivot_table(\"prop\", index=\"year\", columns=\"sex\", aggfunc=sum)\ntable.plot(title=\"Soma de table1000.prop por ano e sexo\", yticks=np.linspace(0, 1.2, 13))\nplt.show()",
      "metadata": {},
      "execution_count": null,
      "outputs": []
    },
    {
      "cell_type": "markdown",
      "source": "#### Você pode ver que, de fato, parece estar aumentando a diversidade de nomes (diminuindo a proporção total no top 1.000). Outra métrica interessante é o número de nomes distintos, em ordem de popularidade, do mais alto para o mais baixo, nos 50% melhores nascimentos. Este número é um pouco mais complicado de calcular. Vamos considerar apenas os nomes de meninos de 2010:",
      "metadata": {}
    },
    {
      "cell_type": "code",
      "source": "df = boys[boys[\"year\"] == 2010]\nprint(df)",
      "metadata": {},
      "execution_count": null,
      "outputs": []
    },
    {
      "cell_type": "markdown",
      "source": "#### Depois de classificar prop em ordem decrescente, queremos saber quantos dos nomes mais populares são necessários para chegar a 50%. Você poderia escrever um loop for para fazer isso, mas uma maneira NumPy vetorizada é um pouco mais inteligente. Pegar a soma cumulativa, cumsum, de prop e então chamar o método searchsorted retorna a posição na soma cumulativa na qual 0.5 precisaria ser inserido para mantê-la em ordem:",
      "metadata": {}
    },
    {
      "cell_type": "code",
      "source": "prop_cumsum = df[\"prop\"].sort_values(ascending=False).cumsum()\nprint(prop_cumsum[0:10])\nplt.hist(prop_cumsum)\nplt.show()\nprop_cumsum.plot.density()\nplt.show()\nprint(prop_cumsum.searchsorted(0.5))",
      "metadata": {},
      "execution_count": null,
      "outputs": []
    },
    {
      "cell_type": "markdown",
      "source": "#### Como as matrizes são indexadas a zero, adicionar 1 a esse resultado resulta em 117. Em contraste, em 1900 esse número era muito menor:",
      "metadata": {}
    },
    {
      "cell_type": "code",
      "source": "df = boys[boys.year == 1900]\nin1900 = df.sort_values(\"prop\", ascending=False).prop.cumsum()\nprint(in1900.searchsorted(0.5) + 1)",
      "metadata": {},
      "execution_count": null,
      "outputs": []
    },
    {
      "cell_type": "markdown",
      "source": "#### Agora você pode aplicar esta operação a cada combinação de ano/sexo, agrupar por esses campos e aplicar uma função que retorna a contagem para cada grupo:",
      "metadata": {}
    },
    {
      "cell_type": "code",
      "source": "def get_quantile_count(group, q=0.5):\n    group = group.sort_values(\"prop\", ascending=False)\n    return group.prop.cumsum().searchsorted(q) + 1\n\ndiversity = top1000.groupby([\"year\", \"sex\"]).apply(get_quantile_count)\ndiversity = diversity.unstack()",
      "metadata": {},
      "execution_count": null,
      "outputs": []
    },
    {
      "cell_type": "markdown",
      "source": "#### Essa diversidade de DataFrame resultante agora tem duas séries temporais, uma para cada sexo, indexadas por ano.",
      "metadata": {}
    },
    {
      "cell_type": "code",
      "source": "print(diversity.head())\ndiversity.plot(title=\"Número de nomes populares no top 50%\")\nplt.show()",
      "metadata": {},
      "execution_count": null,
      "outputs": []
    },
    {
      "cell_type": "markdown",
      "source": "#### Como você pode ver, os nomes das meninas sempre foram mais diversos do que os nomes dos meninos, e eles só se tornaram mais ao longo do tempo. Uma análise mais aprofundada do que exatamente está impulsionando a diversidade, como o aumento de grafias alternativas, é deixada para o leitor.",
      "metadata": {}
    },
    {
      "cell_type": "markdown",
      "source": "### A revolução da “última letra”\n#### Em 2007, a pesquisadora de nomes de bebês Laura Wattenberg apontou em seu site que a distribuição de nomes de meninos por letra final mudou significativamente nos últimos 100 anos. Para ver isso, primeiro agregamos todos os nascimentos no conjunto de dados completo por ano, sexo e letra final:",
      "metadata": {}
    },
    {
      "cell_type": "code",
      "source": "def get_last_letter(x):\n    return x[-1]\n\nlast_letters = names[\"name\"].map(get_last_letter)\nlast_letters.name = \"last_letter\"\n\ntable = names.pivot_table(\"births\", index=last_letters, columns=[\"sex\", \"year\"], aggfunc=sum)",
      "metadata": {},
      "execution_count": null,
      "outputs": []
    },
    {
      "cell_type": "markdown",
      "source": "#### Em seguida, selecionamos três anos representativos abrangendo o histórico e imprimimos as primeiras linhas:",
      "metadata": {}
    },
    {
      "cell_type": "code",
      "source": "subtable = table.reindex(columns=[1910, 1960, 2010, 2020], level=\"year\")\nprint(subtable.head())",
      "metadata": {},
      "execution_count": null,
      "outputs": []
    },
    {
      "cell_type": "markdown",
      "source": "#### Em seguida, normalize a tabela pelo total de nascimentos para calcular uma nova tabela contendo a proporção do total de nascimentos para cada sexo terminando em cada letra:",
      "metadata": {}
    },
    {
      "cell_type": "code",
      "source": "print(subtable.sum())\nletter_prop = subtable / subtable.sum()\nprint(letter_prop)",
      "metadata": {},
      "execution_count": null,
      "outputs": []
    },
    {
      "cell_type": "markdown",
      "source": "#### Com as proporções das letras agora em mãos, podemos fazer gráficos de barras para cada sexo divididos por ano",
      "metadata": {}
    },
    {
      "cell_type": "code",
      "source": "fig, axes = plt.subplots(2, 1, figsize=(10, 8))\nletter_prop[\"M\"].plot(kind=\"bar\", rot=0, ax=axes[0], title=\"Masculino\")\nletter_prop[\"F\"].plot(kind=\"bar\", rot=0, ax=axes[1], title=\"Feminino\",legend=False)\nplt.subplots_adjust(hspace=0.25)\nplt.show()",
      "metadata": {},
      "execution_count": null,
      "outputs": []
    },
    {
      "cell_type": "markdown",
      "source": "#### Como você pode ver, os nomes de meninos terminados em n tiveram um crescimento significativo desde a década de 1960. Voltando à tabela completa criada anteriormente, normalizo novamente por ano e sexo e seleciono um subconjunto de letras para os nomes dos meninos, finalmente transpondo para tornar cada coluna uma série temporal:",
      "metadata": {}
    },
    {
      "cell_type": "code",
      "source": "letter_prop = table / table.sum()\n\ndny_ts = letter_prop.loc[[\"t\", \"n\", \"y\"], \"M\"].T\nprint(dny_ts.head())",
      "metadata": {},
      "execution_count": null,
      "outputs": []
    },
    {
      "cell_type": "markdown",
      "source": "#### Com este DataFrame de séries temporais em mãos, posso fazer um gráfico das tendências ao longo do tempo novamente com seu método de plotagem",
      "metadata": {}
    },
    {
      "cell_type": "code",
      "source": "dny_ts.plot()\nplt.show()",
      "metadata": {},
      "execution_count": null,
      "outputs": []
    },
    {
      "cell_type": "markdown",
      "source": "### Nomes de meninos que se tornaram nomes de meninas (e vice-versa)\n#### Outra tendência divertida é olhar para nomes de meninos que eram mais populares com um sexo no início da amostra, mas que “mudaram de sexo” no presente. Um exemplo é o nome Lesley ou Leslie. Voltando ao top1000",
      "metadata": {}
    },
    {
      "cell_type": "code",
      "source": "all_names = pd.Series(top1000[\"name\"].unique())\nlesley_like = all_names[all_names.str.contains(\"Lesl\")]\nprint(lesley_like)",
      "metadata": {},
      "execution_count": null,
      "outputs": []
    },
    {
      "cell_type": "markdown",
      "source": "#### A partir daí, podemos filtrar apenas esses nomes e somar nascimentos agrupados por nome para ver as frequências relativas:",
      "metadata": {}
    },
    {
      "cell_type": "code",
      "source": "filtered = top1000[top1000[\"name\"].isin(lesley_like)]\nprint(filtered.groupby(\"name\")[\"births\"].sum())",
      "metadata": {},
      "execution_count": null,
      "outputs": []
    },
    {
      "cell_type": "markdown",
      "source": "#### Em seguida, vamos agregar por sexo e ano e normalizar dentro do ano:",
      "metadata": {}
    },
    {
      "cell_type": "code",
      "source": "table = filtered.pivot_table(\"births\", index=\"year\", columns=\"sex\", aggfunc=\"sum\")\ntable = table.div(table.sum(axis=\"columns\"), axis=\"index\")\ntable.tail()",
      "metadata": {},
      "execution_count": null,
      "outputs": []
    },
    {
      "cell_type": "markdown",
      "source": "#### Por fim, agora é possível fazer um gráfico da divisão por sexo ao longo do tempo",
      "metadata": {}
    },
    {
      "cell_type": "code",
      "source": "table.plot(style={\"M\": \"k-\", \"F\": \"k--\"})\nplt.show()",
      "metadata": {},
      "execution_count": null,
      "outputs": []
    }
  ]
}