{
  "metadata": {
    "language_info": {
      "codemirror_mode": {
        "name": "python",
        "version": 3
      },
      "file_extension": ".py",
      "mimetype": "text/x-python",
      "name": "python",
      "nbconvert_exporter": "python",
      "pygments_lexer": "ipython3",
      "version": "3.8"
    },
    "kernelspec": {
      "name": "python",
      "display_name": "Python (Pyodide)",
      "language": "python"
    }
  },
  "nbformat_minor": 4,
  "nbformat": 4,
  "cells": [
    {
      "cell_type": "markdown",
      "source": "# Métricas de Classificação",
      "metadata": {}
    },
    {
      "cell_type": "markdown",
      "source": "### Criar 3 classes para classificação",
      "metadata": {}
    },
    {
      "cell_type": "code",
      "source": "import numpy as np\nfrom sklearn.datasets import make_blobs\nfrom sklearn.model_selection import train_test_split\n\n\ncenter = [[-5, 0], [0, 1.5], [5, 1]]\nX, y = make_blobs(n_samples=1000, centers=center, random_state=42)\n\nX_train, X_test, y_train, y_test = train_test_split(X, y, random_state=42)\n\nX_train = np.c_[np.ones((len(y_train), 1)), X_train]\nX_test = np.c_[np.ones((len(y_test), 1)), X_test]",
      "metadata": {
        "trusted": true
      },
      "execution_count": null,
      "outputs": []
    },
    {
      "cell_type": "markdown",
      "source": "### Ajuste do Modelo de uma Regressão Logística",
      "metadata": {}
    },
    {
      "cell_type": "code",
      "source": "from sklearn.linear_model._logistic import LogisticRegression\n\nmodel = LogisticRegression(solver='lbfgs', max_iter=10000, multi_class='multinomial')\nmodel.fit(X_train, y_train)",
      "metadata": {
        "trusted": true
      },
      "execution_count": null,
      "outputs": []
    },
    {
      "cell_type": "markdown",
      "source": "#### Predição e saídas",
      "metadata": {}
    },
    {
      "cell_type": "code",
      "source": "y_pred = model.predict(X_test)\nconfusion_matrix(y_test, y_pred)\ny_prob = model.predict_proba(X_test)\ny_test_bin = label_binarize(y_test, classes=[0, 1, 2])",
      "metadata": {
        "trusted": true
      },
      "execution_count": null,
      "outputs": []
    },
    {
      "cell_type": "markdown",
      "source": "### Curva ROC",
      "metadata": {}
    },
    {
      "cell_type": "code",
      "source": "from sklearn.metrics import confusion_matrix, roc_curve, accuracy_score, auc, f1_score, roc_auc_score\n\nfpr, tpr, _ = roc_curve(y_test_bin[:, 0], y_prob[:, 0])\nroc_auc = auc(fpr[0], tpr[0])",
      "metadata": {
        "trusted": true
      },
      "execution_count": null,
      "outputs": []
    },
    {
      "cell_type": "markdown",
      "source": "### Algumas métricas",
      "metadata": {}
    },
    {
      "cell_type": "code",
      "source": "from sklearn.metrics import classification_report, precision_score, recall_score\n\nclassification_report(y_test, y_pred)\naccuracy_score(y_test, y_pred)*100\nprecision_score(y_test, y_pred, average=None)\nrecall_score(y_test, y_pred, average=None)\nf1_score(y_test, y_pred, average=None)",
      "metadata": {},
      "execution_count": null,
      "outputs": []
    }
  ]
}