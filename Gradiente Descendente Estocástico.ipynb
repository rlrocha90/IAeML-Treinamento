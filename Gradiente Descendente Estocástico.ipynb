{
  "metadata": {
    "language_info": {
      "codemirror_mode": {
        "name": "python",
        "version": 3
      },
      "file_extension": ".py",
      "mimetype": "text/x-python",
      "name": "python",
      "nbconvert_exporter": "python",
      "pygments_lexer": "ipython3",
      "version": "3.8"
    },
    "kernelspec": {
      "name": "python",
      "display_name": "Python (Pyodide)",
      "language": "python"
    }
  },
  "nbformat_minor": 4,
  "nbformat": 4,
  "cells": [
    {
      "cell_type": "markdown",
      "source": "# Gradiente Descendende Estocástico - Manual",
      "metadata": {}
    },
    {
      "cell_type": "code",
      "source": "import numpy as np\nimport matplotlib.pyplot as plt\n\n\nX = 2 * np.random.rand(100, 1)\ny = 4 + 3 * X + np.random.randn(100, 1)\n\nX_b = np.c_[np.ones((100, 1)), X]\nX_new = np.array([[0], [2]])\nX_new_b = np.c_[np.ones((2, 1)), X_new]\n\n\neta = 0.01\nn_iterations = 1000\nm = 100\ntheta = np.random.randn(2,1)\n\nfor iteration in range(n_iterations):\n    gradients = 2/m * X_b.T.dot(X_b.dot(theta) - y)\n    theta = theta - eta * gradients\n\n\nprint(theta)\nX_new_b.dot(theta)\n\ntheta_path_sgd = []\nm = len(X_b)\nnp.random.seed(42)\n\nn_epochs = 50\nt0, t1 = 5, 50  # learning schedule hyperparameters\n\n\ndef learning_schedule(t):\n    return t0 / (t + t1)\n\n\ntheta = np.random.randn(2,1)  # random initialization\n\nfor epoch in range(n_epochs):\n    for i in range(m):\n        if epoch == 0 and i < 20:\n            y_predict = X_new_b.dot(theta)\n            style = \"b-\" if i > 0 else \"r--\"\n            plt.plot(X_new, y_predict, style)\n        random_index = np.random.randint(m)\n        xi = X_b[random_index:random_index+1]\n        yi = y[random_index:random_index+1]\n        gradients = 2 * xi.T.dot(xi.dot(theta) - yi)\n        eta = learning_schedule(epoch * m + i)\n        theta = theta - eta * gradients\n        theta_path_sgd.append(theta)\n\nplt.plot(X, y, \"b.\")\nplt.xlabel(\"$x_1$\", fontsize=18)\nplt.ylabel(\"$y$\", rotation=0, fontsize=18)\nplt.axis([0, 2, 0, 15])\nplt.show()",
      "metadata": {},
      "execution_count": null,
      "outputs": []
    }
  ]
}