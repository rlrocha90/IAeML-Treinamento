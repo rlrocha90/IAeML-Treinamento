{
  "metadata": {
    "language_info": {
      "codemirror_mode": {
        "name": "python",
        "version": 3
      },
      "file_extension": ".py",
      "mimetype": "text/x-python",
      "name": "python",
      "nbconvert_exporter": "python",
      "pygments_lexer": "ipython3",
      "version": "3.8"
    },
    "kernelspec": {
      "name": "python",
      "display_name": "Python (Pyodide)",
      "language": "python"
    }
  },
  "nbformat_minor": 4,
  "nbformat": 4,
  "cells": [
    {
      "cell_type": "markdown",
      "source": "# A questão dos dados: análises iniciais e preparação",
      "metadata": {}
    },
    {
      "cell_type": "markdown",
      "source": "### Importar os dados já armazenados",
      "metadata": {}
    },
    {
      "cell_type": "code",
      "source": "import pandas as pd\nimport numpy as np\n\nurl = 'https://raw.githubusercontent.com/rlrocha90/IAeML-Treinamento/main/housing.csv'\n\nhousing = pd.read_csv(url, index_col=0)\nhousing[\"income_cat\"] = np.ceil(housing[\"median_income\"] / 1.5)\nhousing[\"income_cat\"].where(housing[\"income_cat\"] < 5, 5.0, inplace=True)",
      "metadata": {
        "trusted": true
      },
      "execution_count": 1,
      "outputs": [
        {
          "ename": "<class 'NameError'>",
          "evalue": "name 'pd' is not defined",
          "traceback": [
            "\u001b[0;31m---------------------------------------------------------------------------\u001b[0m",
            "\u001b[0;31mNameError\u001b[0m                                 Traceback (most recent call last)",
            "Cell \u001b[0;32mIn [1], line 3\u001b[0m\n\u001b[1;32m      1\u001b[0m url \u001b[38;5;241m=\u001b[39m \u001b[38;5;124m'\u001b[39m\u001b[38;5;124mhttps://raw.githubusercontent.com/rlrocha90/IAeML-Treinamento/main/housing.csv\u001b[39m\u001b[38;5;124m'\u001b[39m\n\u001b[0;32m----> 3\u001b[0m housing \u001b[38;5;241m=\u001b[39m \u001b[43mpd\u001b[49m\u001b[38;5;241m.\u001b[39mread_csv(url, index_col\u001b[38;5;241m=\u001b[39m\u001b[38;5;241m0\u001b[39m)\n\u001b[1;32m      4\u001b[0m housing[\u001b[38;5;124m\"\u001b[39m\u001b[38;5;124mincome_cat\u001b[39m\u001b[38;5;124m\"\u001b[39m] \u001b[38;5;241m=\u001b[39m np\u001b[38;5;241m.\u001b[39mceil(housing[\u001b[38;5;124m\"\u001b[39m\u001b[38;5;124mmedian_income\u001b[39m\u001b[38;5;124m\"\u001b[39m] \u001b[38;5;241m/\u001b[39m \u001b[38;5;241m1.5\u001b[39m)\n\u001b[1;32m      5\u001b[0m housing[\u001b[38;5;124m\"\u001b[39m\u001b[38;5;124mincome_cat\u001b[39m\u001b[38;5;124m\"\u001b[39m]\u001b[38;5;241m.\u001b[39mwhere(housing[\u001b[38;5;124m\"\u001b[39m\u001b[38;5;124mincome_cat\u001b[39m\u001b[38;5;124m\"\u001b[39m] \u001b[38;5;241m<\u001b[39m \u001b[38;5;241m5\u001b[39m, \u001b[38;5;241m5.0\u001b[39m, inplace\u001b[38;5;241m=\u001b[39m\u001b[38;5;28;01mTrue\u001b[39;00m)\n",
            "\u001b[0;31mNameError\u001b[0m: name 'pd' is not defined"
          ],
          "output_type": "error"
        }
      ]
    },
    {
      "cell_type": "code",
      "source": "from sklearn.model_selection import StratifiedShuffleSplit\n\nsplit = StratifiedShuffleSplit(n_splits=1, test_size=0.2, random_state=42)\nfor train_index, test_index in split.split(housing, housing[\"income_cat\"]):\n    strat_train_set = housing.loc[train_index]\n    strat_test_set = housing.loc[test_index]",
      "metadata": {},
      "execution_count": null,
      "outputs": []
    },
    {
      "cell_type": "markdown",
      "source": "### Apresentar uma tabela com amostra dos dados",
      "metadata": {}
    },
    {
      "cell_type": "code",
      "source": "print(housing.head())",
      "metadata": {},
      "execution_count": null,
      "outputs": []
    },
    {
      "cell_type": "markdown",
      "source": "### Apresenta informações importantes sobre os dados",
      "metadata": {}
    },
    {
      "cell_type": "code",
      "source": "print(housing.info())",
      "metadata": {},
      "execution_count": null,
      "outputs": []
    },
    {
      "cell_type": "markdown",
      "source": "### Apresentar contagem das informações dentro da coluna \"ocean_proximity\", por conter objetos",
      "metadata": {}
    },
    {
      "cell_type": "code",
      "source": "print(housing[\"ocean_proximity\"].value_counts())",
      "metadata": {},
      "execution_count": null,
      "outputs": []
    },
    {
      "cell_type": "markdown",
      "source": "### Apresenta dados estatísticos sobre o conjunto",
      "metadata": {}
    },
    {
      "cell_type": "code",
      "source": "print(housing.describe())\nstatt = housing.describe()",
      "metadata": {},
      "execution_count": null,
      "outputs": []
    },
    {
      "cell_type": "markdown",
      "source": "### Apresenta um histograma",
      "metadata": {}
    },
    {
      "cell_type": "code",
      "source": "import matplotlib.pyplot as plt\n\nhousing.hist(bins=50, figsize=(20, 15))\nplt.show()",
      "metadata": {},
      "execution_count": null,
      "outputs": []
    },
    {
      "cell_type": "markdown",
      "source": "### Matriz de Correlação",
      "metadata": {}
    },
    {
      "cell_type": "code",
      "source": "corr_matrix = housing.corr()",
      "metadata": {},
      "execution_count": null,
      "outputs": []
    },
    {
      "cell_type": "markdown",
      "source": "### Apresenta as correlações do atributo \"median_house_value\" com os demais do conjunto",
      "metadata": {}
    },
    {
      "cell_type": "code",
      "source": "corr_matrix[\"median_house_value\"].sort_values(ascending=False)",
      "metadata": {},
      "execution_count": null,
      "outputs": []
    },
    {
      "cell_type": "markdown",
      "source": "### Apresenta um conjunto de gráficos com a relação entre duas variáveis...\n### É preciso escolher as variáveis...",
      "metadata": {}
    },
    {
      "cell_type": "code",
      "source": "attributes = [\"median_house_value\", \"median_income\", \"total_rooms\",\n              \"housing_median_age\"]\nscatter_matrix(housing[attributes], figsize=(12, 8))\nplt.show()",
      "metadata": {},
      "execution_count": null,
      "outputs": []
    },
    {
      "cell_type": "code",
      "source": "housing.plot(kind=\"scatter\", x=\"median_income\", y=\"median_house_value\",\n             alpha=0.1)\nplt.axis([0, 16, 0, 550000])\nplt.show()",
      "metadata": {},
      "execution_count": null,
      "outputs": []
    },
    {
      "cell_type": "markdown",
      "source": "### Algumas manipulações - FEATURE ENGINEERING",
      "metadata": {}
    },
    {
      "cell_type": "code",
      "source": "housing[\"rooms_per_household\"] = housing[\"total_rooms\"]/housing[\"households\"]\nhousing[\"bedrooms_per_room\"] = housing[\"total_bedrooms\"]/housing[\"total_rooms\"]\nhousing[\"population_per_household\"] = housing[\"population\"]/housing[\"households\"]",
      "metadata": {},
      "execution_count": null,
      "outputs": []
    },
    {
      "cell_type": "markdown",
      "source": "### Analisar mais uma vez a correlação, agora com as novas features",
      "metadata": {}
    },
    {
      "cell_type": "code",
      "source": "corr_matrix = housing.corr()\nprint(corr_matrix[\"median_house_value\"].sort_values(ascending=False))\n\nattributes = [\"median_house_value\", \"bedrooms_per_room\"]\nscatter_matrix(housing[attributes], figsize=(12, 8))\nplt.show()",
      "metadata": {},
      "execution_count": null,
      "outputs": []
    },
    {
      "cell_type": "markdown",
      "source": "### Mais uma olhada nos dados",
      "metadata": {}
    },
    {
      "cell_type": "code",
      "source": "housing.describe()",
      "metadata": {},
      "execution_count": null,
      "outputs": []
    },
    {
      "cell_type": "markdown",
      "source": "### Extrair de housing a informação das labels, somente X",
      "metadata": {}
    },
    {
      "cell_type": "code",
      "source": "housing = strat_train_set.drop(\"median_house_value\", axis=1)",
      "metadata": {},
      "execution_count": null,
      "outputs": []
    },
    {
      "cell_type": "markdown",
      "source": "### Criar um novo conjunto com as labels, somente y",
      "metadata": {}
    },
    {
      "cell_type": "code",
      "source": "housing_labels = strat_train_set[\"median_house_value\"].copy()",
      "metadata": {},
      "execution_count": null,
      "outputs": []
    },
    {
      "cell_type": "markdown",
      "source": "### Exemplos de limpeza dos dados\n### Verificiar valores incompletos",
      "metadata": {}
    },
    {
      "cell_type": "code",
      "source": "sample_incomplete_rows = housing[housing.isnull().any(axis=1)].head()\nprint(sample_incomplete_rows)",
      "metadata": {},
      "execution_count": null,
      "outputs": []
    },
    {
      "cell_type": "markdown",
      "source": "### Podemos tomar algumas ações\n### Opção 1 - drop",
      "metadata": {}
    },
    {
      "cell_type": "code",
      "source": "sample_incomplete_rows.dropna(subset=[\"total_bedrooms\"])",
      "metadata": {},
      "execution_count": null,
      "outputs": []
    },
    {
      "cell_type": "markdown",
      "source": "### Opção 2 - drop",
      "metadata": {}
    },
    {
      "cell_type": "code",
      "source": "sample_incomplete_rows.drop(\"total_bedrooms\", axis=1)",
      "metadata": {},
      "execution_count": null,
      "outputs": []
    },
    {
      "cell_type": "markdown",
      "source": "### Opção 3 - Preenchimento com valores",
      "metadata": {}
    },
    {
      "cell_type": "code",
      "source": "median = housing[\"total_bedrooms\"].median()\nsample_incomplete_rows[\"total_bedrooms\"].fillna(median, inplace=True)\nprint(sample_incomplete_rows)",
      "metadata": {},
      "execution_count": null,
      "outputs": []
    },
    {
      "cell_type": "markdown",
      "source": "### Tratando com atributos categóricos e textos",
      "metadata": {}
    },
    {
      "cell_type": "code",
      "source": "housing_cat = housing[['ocean_proximity']]\nprint(housing_cat.head(10))",
      "metadata": {},
      "execution_count": null,
      "outputs": []
    },
    {
      "cell_type": "markdown",
      "source": "### Codificando os atributos em valores numéricos",
      "metadata": {}
    },
    {
      "cell_type": "code",
      "source": "ordinal_encoder = OrdinalEncoder()\nhousing_cat_encoded = ordinal_encoder.fit_transform(housing_cat)\nprint(housing_cat_encoded[:10])\nprint(ordinal_encoder.categories_)",
      "metadata": {},
      "execution_count": null,
      "outputs": []
    },
    {
      "cell_type": "markdown",
      "source": "### Outro método, usando representação binária",
      "metadata": {}
    },
    {
      "cell_type": "code",
      "source": "cat_encoder = OneHotEncoder()\nhousing_cat_1hot = cat_encoder.fit_transform(housing_cat)\nprint(housing_cat_1hot)\nprint(housing_cat_1hot.toarray())",
      "metadata": {},
      "execution_count": null,
      "outputs": []
    }
  ]
}