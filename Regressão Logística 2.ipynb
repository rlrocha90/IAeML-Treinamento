{
  "metadata": {
    "language_info": {
      "codemirror_mode": {
        "name": "python",
        "version": 3
      },
      "file_extension": ".py",
      "mimetype": "text/x-python",
      "name": "python",
      "nbconvert_exporter": "python",
      "pygments_lexer": "ipython3",
      "version": "3.8"
    },
    "kernelspec": {
      "name": "python",
      "display_name": "Python (Pyodide)",
      "language": "python"
    }
  },
  "nbformat_minor": 4,
  "nbformat": 4,
  "cells": [
    {
      "cell_type": "markdown",
      "source": "# Regressão Logística 2",
      "metadata": {}
    },
    {
      "cell_type": "markdown",
      "source": "### Importar dataset Iris",
      "metadata": {}
    },
    {
      "cell_type": "code",
      "source": "from sklearn import datasets\n\niris = datasets.load_iris()\nX = iris[\"data\"][:, (2, 3)]  # petal length, petal width\ny = (iris[\"target\"] == 2).astype(int)",
      "metadata": {},
      "execution_count": null,
      "outputs": []
    },
    {
      "cell_type": "markdown",
      "source": "### Ajustando um modelo",
      "metadata": {}
    },
    {
      "cell_type": "code",
      "source": "from sklearn.linear_model import LogisticRegression\n\nlog_reg = LogisticRegression(solver=\"sag\", C=100000, max_iter=2000, random_state=42)\nlog_reg.fit(X, y)",
      "metadata": {
        "trusted": true
      },
      "execution_count": null,
      "outputs": []
    },
    {
      "cell_type": "markdown",
      "source": "### Novos valores para teste",
      "metadata": {}
    },
    {
      "cell_type": "code",
      "source": "import numpy as np\n\nx0, x1 = np.meshgrid(\n        np.linspace(2.9, 7, 500).reshape(-1, 1),\n        np.linspace(0.8, 2.7, 200).reshape(-1, 1),\n    )\nX_new = np.c_[x0.ravel(), x1.ravel()]",
      "metadata": {
        "trusted": true
      },
      "execution_count": null,
      "outputs": []
    },
    {
      "cell_type": "markdown",
      "source": "### Cálculo da probabilidade",
      "metadata": {}
    },
    {
      "cell_type": "code",
      "source": "y_proba = log_reg.predict_proba(X_new)",
      "metadata": {
        "trusted": true
      },
      "execution_count": null,
      "outputs": []
    },
    {
      "cell_type": "markdown",
      "source": "### Visualizando as decisões",
      "metadata": {}
    },
    {
      "cell_type": "code",
      "source": "import matplotlib.pyplot as plt\n\nplt.figure(figsize=(10, 4))\nplt.plot(X[y==0, 0], X[y==0, 1], \"bs\")\nplt.plot(X[y==1, 0], X[y==1, 1], \"g^\")\n\nzz = y_proba[:, 1].reshape(x0.shape)\ncontour = plt.contour(x0, x1, zz, cmap=plt.cm.brg)\n\n\nleft_right = np.array([2.9, 7])\nboundary = -(log_reg.coef_[0][0] * left_right + log_reg.intercept_[0]) / log_reg.coef_[0][1]\n\nplt.clabel(contour, inline=1, fontsize=12)\nplt.plot(left_right, boundary, \"k--\", linewidth=3)\nplt.text(3.5, 1.5, \"Não Iris-Virginica\", fontsize=14, color=\"b\", ha=\"center\")\nplt.text(6.5, 2.3, \"Iris-Virginica\", fontsize=14, color=\"g\", ha=\"center\")\nplt.xlabel(\"Comprimento Pétala\", fontsize=10)\nplt.ylabel(\"Largura Pétala\", fontsize=10)\nplt.axis([2.9, 7, 0.8, 2.7])\nplt.show()\n\nprint(\"score:\", log_reg.score(X, y))",
      "metadata": {},
      "execution_count": null,
      "outputs": []
    }
  ]
}