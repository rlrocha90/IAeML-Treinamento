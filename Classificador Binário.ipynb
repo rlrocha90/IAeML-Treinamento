{
  "metadata": {
    "language_info": {
      "codemirror_mode": {
        "name": "python",
        "version": 3
      },
      "file_extension": ".py",
      "mimetype": "text/x-python",
      "name": "python",
      "nbconvert_exporter": "python",
      "pygments_lexer": "ipython3",
      "version": "3.8"
    },
    "kernelspec": {
      "name": "python",
      "display_name": "Python (Pyodide)",
      "language": "python"
    }
  },
  "nbformat_minor": 4,
  "nbformat": 4,
  "cells": [
    {
      "cell_type": "markdown",
      "source": "# Classificador Binário",
      "metadata": {}
    },
    {
      "cell_type": "markdown",
      "source": "### Importar dataset Mnist",
      "metadata": {}
    },
    {
      "cell_type": "code",
      "source": "from sklearn.datasets import fetch_openml\nimport numpy as np\n\nmnist = fetch_openml('mnist_784', version=1, cache=True, as_frame=False)\nmnist.target = mnist.target.astype(np.int8)\n\nX, y = mnist[\"data\"], mnist[\"target\"]\n\nnp.save('mnistX', X)\nnp.save('mnisty', y)\n\nX_train, X_test, y_train, y_test = X[:60000], X[60000:], y[:60000], y[60000:]",
      "metadata": {
        "trusted": true
      },
      "execution_count": null,
      "outputs": []
    },
    {
      "cell_type": "markdown",
      "source": "### Verificar os dados - brevemente",
      "metadata": {}
    },
    {
      "cell_type": "code",
      "source": "print(X_train.shape)\nprint(X_test.shape)\nprint(y_train.shape)\nprint(y_test.shape)",
      "metadata": {
        "trusted": true
      },
      "execution_count": null,
      "outputs": []
    },
    {
      "cell_type": "markdown",
      "source": "### Definindo uma classe como verdadeira e outras como falsas",
      "metadata": {}
    },
    {
      "cell_type": "code",
      "source": "shuffle_index = np.random.permutation(60000)\nX_train, y_train = X_train[shuffle_index], y_train[shuffle_index]\n\ny_train_5 = (y_train == 5)\ny_test_5 = (y_test == 5)",
      "metadata": {
        "trusted": true
      },
      "execution_count": null,
      "outputs": []
    },
    {
      "cell_type": "markdown",
      "source": "### Ajustando um classificador",
      "metadata": {}
    },
    {
      "cell_type": "code",
      "source": "from sklearn.linear_model import SGDClassifier\n\nsgd_clf = SGDClassifier(loss='log_loss', max_iter=5, tol=-np.infty, random_state=42)\nsgd_clf.fit(X_train, y_train_5)",
      "metadata": {
        "trusted": true
      },
      "execution_count": null,
      "outputs": []
    },
    {
      "cell_type": "markdown",
      "source": "### Informações do classificador ajustado",
      "metadata": {}
    },
    {
      "cell_type": "code",
      "source": "print(\"Interceptação: \", sgd_clf.intercept_)\ncoefici = sgd_clf.coef_\nprint(\"# iterações: \", sgd_clf.n_iter_)\nprint(sgd_clf.loss_function_)\nprint(sgd_clf.get_params())\nprint(\"Score: \", sgd_clf.score(X_test, y_test_5))",
      "metadata": {
        "trusted": true
      },
      "execution_count": null,
      "outputs": []
    },
    {
      "cell_type": "markdown",
      "source": "### Testando a saída",
      "metadata": {}
    },
    {
      "cell_type": "code",
      "source": "import matplotlib as mpl\nimport matplotlib.pyplot as plt\n\ndigito = 8\nprint(sgd_clf.predict([X_test[digito]]))\nprint(y_test[digito])\n\nimage = X_test[digito].reshape(28, 28)\nplt.imshow(image, cmap= mpl.cm.binary, interpolation=\"nearest\")\nplt.axis(\"off\")\nplt.show()",
      "metadata": {},
      "execution_count": null,
      "outputs": []
    }
  ]
}