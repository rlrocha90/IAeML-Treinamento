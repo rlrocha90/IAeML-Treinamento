{
  "metadata": {
    "language_info": {
      "codemirror_mode": {
        "name": "python",
        "version": 3
      },
      "file_extension": ".py",
      "mimetype": "text/x-python",
      "name": "python",
      "nbconvert_exporter": "python",
      "pygments_lexer": "ipython3",
      "version": "3.8"
    },
    "kernelspec": {
      "name": "python",
      "display_name": "Python (Pyodide)",
      "language": "python"
    }
  },
  "nbformat_minor": 4,
  "nbformat": 4,
  "cells": [
    {
      "cell_type": "markdown",
      "source": "# Classificador Binário",
      "metadata": {}
    },
    {
      "cell_type": "code",
      "source": "import numpy as np\nimport requests\nimport io\n\nresponse = requests.get('https://posinatel-my.sharepoint.com/:u:/r/personal/ranyeri_rocha_inatel_br/Documents/Documents/ICC-EC/Samsung%20-%20Machine%20Learning/C%C3%B3digos/mnistXtrain.npy?csf=1&web=1&e=Sggp6X')\nresponse.raise_for_status()\nX_train = np.load(io.BytesIO(response.content))\n\n\n#X_test = np.load('https://posinatel-my.sharepoint.com/:u:/r/personal/ranyeri_rocha_inatel_br/Documents/Documents/ICC-EC/Samsung%20-%20Machine%20Learning/C%C3%B3digos/mnistXtest.npy?csf=1&web=1&e=6IWgBO', allow_pickle=True) \n#y_train = np.load('https://posinatel-my.sharepoint.com/:u:/r/personal/ranyeri_rocha_inatel_br/Documents/Documents/ICC-EC/Samsung%20-%20Machine%20Learning/C%C3%B3digos/mnistytrain.npy?csf=1&web=1&e=uUJFCF', allow_pickle=True)\n#y_test = np.load('https://posinatel-my.sharepoint.com/:u:/r/personal/ranyeri_rocha_inatel_br/Documents/Documents/ICC-EC/Samsung%20-%20Machine%20Learning/C%C3%B3digos/mnistytest.npy?csf=1&web=1&e=bf6gnv', allow_pickle=True)",
      "metadata": {
        "trusted": true
      },
      "execution_count": 4,
      "outputs": [
        {
          "ename": "<class 'ModuleNotFoundError'>",
          "evalue": "No module named 'requests'",
          "traceback": [
            "\u001b[0;31m---------------------------------------------------------------------------\u001b[0m",
            "\u001b[0;31mModuleNotFoundError\u001b[0m                       Traceback (most recent call last)",
            "Cell \u001b[0;32mIn [4], line 2\u001b[0m\n\u001b[1;32m      1\u001b[0m \u001b[38;5;28;01mimport\u001b[39;00m \u001b[38;5;21;01mnumpy\u001b[39;00m \u001b[38;5;28;01mas\u001b[39;00m \u001b[38;5;21;01mnp\u001b[39;00m\n\u001b[0;32m----> 2\u001b[0m \u001b[38;5;28;01mimport\u001b[39;00m \u001b[38;5;21;01mrequests\u001b[39;00m\n\u001b[1;32m      3\u001b[0m \u001b[38;5;28;01mimport\u001b[39;00m \u001b[38;5;21;01mio\u001b[39;00m\n\u001b[1;32m      5\u001b[0m response \u001b[38;5;241m=\u001b[39m requests\u001b[38;5;241m.\u001b[39mget(\u001b[38;5;124m'\u001b[39m\u001b[38;5;124mhttps://posinatel-my.sharepoint.com/:u:/r/personal/ranyeri_rocha_inatel_br/Documents/Documents/ICC-EC/Samsung\u001b[39m\u001b[38;5;124m%\u001b[39m\u001b[38;5;124m20-\u001b[39m\u001b[38;5;124m%\u001b[39m\u001b[38;5;124m20Machine\u001b[39m\u001b[38;5;132;01m%20Le\u001b[39;00m\u001b[38;5;124marning/C\u001b[39m\u001b[38;5;124m%\u001b[39m\u001b[38;5;124mC3\u001b[39m\u001b[38;5;124m%\u001b[39m\u001b[38;5;124mB3digos/mnistXtrain.npy?csf=1&web=1&e=Sggp6X\u001b[39m\u001b[38;5;124m'\u001b[39m)\n",
            "\u001b[0;31mModuleNotFoundError\u001b[0m: No module named 'requests'"
          ],
          "output_type": "error"
        }
      ]
    },
    {
      "cell_type": "code",
      "source": "",
      "metadata": {},
      "execution_count": null,
      "outputs": []
    }
  ]
}