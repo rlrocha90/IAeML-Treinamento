{
  "metadata": {
    "language_info": {
      "codemirror_mode": {
        "name": "python",
        "version": 3
      },
      "file_extension": ".py",
      "mimetype": "text/x-python",
      "name": "python",
      "nbconvert_exporter": "python",
      "pygments_lexer": "ipython3",
      "version": "3.8"
    },
    "kernelspec": {
      "name": "python",
      "display_name": "Python (Pyodide)",
      "language": "python"
    }
  },
  "nbformat_minor": 4,
  "nbformat": 4,
  "cells": [
    {
      "cell_type": "markdown",
      "source": "# Matriz de Confusão Multi",
      "metadata": {}
    },
    {
      "cell_type": "markdown",
      "source": "### Importar dataset Mnist",
      "metadata": {}
    },
    {
      "cell_type": "code",
      "source": "from sklearn.datasets import fetch_openml\nimport numpy as np\n\nmnist = fetch_openml('mnist_784', version=1, cache=True, as_frame=False)\nmnist.target = mnist.target.astype(np.int8)\n\nX, y = mnist[\"data\"], mnist[\"target\"]\n\nnp.save('mnistX', X)\nnp.save('mnisty', y)\n\nX_train, X_test, y_train, y_test = X[:60000], X[60000:], y[:60000], y[60000:]\nshuffle_index = np.random.permutation(60000)\nX_train, y_train = X_train[shuffle_index], y_train[shuffle_index]",
      "metadata": {
        "trusted": true
      },
      "execution_count": null,
      "outputs": []
    },
    {
      "cell_type": "markdown",
      "source": "### Ajustando um Classificador",
      "metadata": {}
    },
    {
      "cell_type": "code",
      "source": "from sklearn.linear_model import SGDClassifier\n\nsgd_clf = SGDClassifier(loss='log_loss', max_iter=5, tol=-np.infty, random_state=42)\nsgd_clf.fit(X_train, y_train)\n\n# Validação Cruzada no Multiclasses\nprint(\"Validação Cruzada - 3-folds: \")\nprint(cross_val_score(sgd_clf, X_train, y_train, cv=3, scoring=\"accuracy\"))",
      "metadata": {
        "trusted": true
      },
      "execution_count": null,
      "outputs": []
    },
    {
      "cell_type": "markdown",
      "source": "### Reescalando os dados para treinar o modelo",
      "metadata": {}
    },
    {
      "cell_type": "code",
      "source": "from sklearn.model_selection import cross_val_score, cross_val_predict\nfrom sklearn.preprocessing import StandardScaler\n\nscaler = StandardScaler()\nX_train_scaled = scaler.fit_transform(X_train.astype(np.float64))\nprint(\"Validação Cruzada reescalado - 3-folds: \")\nprint(cross_val_score(sgd_clf, X_train_scaled, y_train, cv=3, scoring=\"accuracy\"))",
      "metadata": {
        "trusted": true
      },
      "execution_count": null,
      "outputs": []
    },
    {
      "cell_type": "markdown",
      "source": "### Matriz de Confusão",
      "metadata": {}
    },
    {
      "cell_type": "code",
      "source": "import matplotlib.pyplot as plt\nfrom sklearn.metrics import confusion_matrix\n\ny_train_pred = cross_val_predict(sgd_clf, X_train_scaled, y_train, cv=3)\nconf_mx = confusion_matrix(y_train, y_train_pred)\nprint(conf_mx)\n\nplt.matshow(conf_mx, cmap=plt.cm.gray)\nplt.show()",
      "metadata": {
        "trusted": true
      },
      "execution_count": null,
      "outputs": []
    },
    {
      "cell_type": "markdown",
      "source": "### Função para plotar a Matriz de Confusão",
      "metadata": {}
    },
    {
      "cell_type": "code",
      "source": "def plot_confusion_matrix(matrix):\n    \"\"\"Apenas para colorir a matriz\"\"\"\n    fig = plt.figure(figsize=(8, 8))\n    ax = fig.add_subplot(111)\n    cax = ax.matshow(matrix)\n    fig.colorbar(cax)",
      "metadata": {
        "trusted": true
      },
      "execution_count": null,
      "outputs": []
    },
    {
      "cell_type": "markdown",
      "source": "### Plotar a Matriz",
      "metadata": {}
    },
    {
      "cell_type": "code",
      "source": "plot_confusion_matrix(conf_mx)\nplt.show()",
      "metadata": {
        "trusted": true
      },
      "execution_count": null,
      "outputs": []
    },
    {
      "cell_type": "markdown",
      "source": "### Matriz de Erros",
      "metadata": {}
    },
    {
      "cell_type": "code",
      "source": "row_sums = conf_mx.sum(axis=1, keepdims=True)\nnorm_conf_mx = conf_mx / row_sums\nnp.fill_diagonal(norm_conf_mx, 0)\nplt.matshow(norm_conf_mx, cmap=plt.cm.gray)\nplt.show()",
      "metadata": {},
      "execution_count": null,
      "outputs": []
    }
  ]
}