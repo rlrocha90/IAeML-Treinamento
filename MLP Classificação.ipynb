{
  "metadata": {
    "language_info": {
      "codemirror_mode": {
        "name": "python",
        "version": 3
      },
      "file_extension": ".py",
      "mimetype": "text/x-python",
      "name": "python",
      "nbconvert_exporter": "python",
      "pygments_lexer": "ipython3",
      "version": "3.8"
    },
    "kernelspec": {
      "name": "python",
      "display_name": "Python (Pyodide)",
      "language": "python"
    }
  },
  "nbformat_minor": 4,
  "nbformat": 4,
  "cells": [
    {
      "cell_type": "markdown",
      "source": "# Classificação MLP",
      "metadata": {}
    },
    {
      "cell_type": "markdown",
      "source": "### Importar dataset Mnist",
      "metadata": {}
    },
    {
      "cell_type": "code",
      "source": "from sklearn.datasets import fetch_openml\nimport numpy as np\n\nmnist = fetch_openml('mnist_784', version=1, cache=True, as_frame=False)\nmnist.target = mnist.target.astype(np.int8)\n\nX, y = mnist[\"data\"], mnist[\"target\"]\n\nnp.save('mnistX', X)\nnp.save('mnisty', y)\n\nX_train, X_test, y_train, y_test = X[:60000], X[60000:], y[:60000], y[60000:]\nshuffle_index = np.random.permutation(60000)\nX_train, y_train = X_train[shuffle_index], y_train[shuffle_index]",
      "metadata": {
        "trusted": true
      },
      "execution_count": null,
      "outputs": []
    },
    {
      "cell_type": "markdown",
      "source": "### Hiperparâmetros para GridSearch",
      "metadata": {}
    },
    {
      "cell_type": "code",
      "source": "from sklearn.model_selection import GridSearchCV\n\n# parameters = {\n#     'hidden_layer_sizes':[(50,), (100,), (10, 5), (20, 10)],\n#     'activation':['logistic', 'tanh'],\n#     'solver':['lbfgs', 'sgd'],\n# }",
      "metadata": {
        "trusted": true
      },
      "execution_count": null,
      "outputs": []
    },
    {
      "cell_type": "markdown",
      "source": "### Instanciando MLP",
      "metadata": {}
    },
    {
      "cell_type": "code",
      "source": "from sklearn.neural_network import MLPClassifier\nimport matplotlib.pyplot as plt\n\nmlp_cl = MLPClassifier(hidden_layer_sizes=(50), activation='logistic', solver='sgd', max_iter=1000)\n\n#mlp_cl = MLPClassifier(max_iter=5000)\n#gs = GridSearchCV(mlp_cl, parameters, cv=3)\n#gs.fit(X_train, y_train)\n#print(gs.best_params_)\n\nmlp_cl.fit(X_train, y_train)\nplt.figure()\nplt.plot(mlp_cl.loss_curve_)\nplt.show()",
      "metadata": {
        "trusted": true
      },
      "execution_count": null,
      "outputs": []
    },
    {
      "cell_type": "markdown",
      "source": "### Predições e Matriz de Confusão",
      "metadata": {}
    },
    {
      "cell_type": "code",
      "source": "from sklearn.metrics import confusion_matrix\n\ny_pred = mlp_cl.predict(X_test)\n#y_pred = gs.predict(X_test)\nconf_mx = confusion_matrix(y_test, y_pred)\nplt.matshow(conf_mx, cmap=plt.cm.gray)\nplt.show()",
      "metadata": {
        "trusted": true
      },
      "execution_count": null,
      "outputs": []
    },
    {
      "cell_type": "markdown",
      "source": "### Função Matriz de Confusão",
      "metadata": {}
    },
    {
      "cell_type": "code",
      "source": "def plot_confusion_matrix(matrix):\n    \"\"\"Apenas para colorir a matriz\"\"\"\n    fig = plt.figure(figsize=(8, 8))\n    ax = fig.add_subplot(111)\n    cax = ax.matshow(matrix)\n    fig.colorbar(cax)",
      "metadata": {
        "trusted": true
      },
      "execution_count": null,
      "outputs": []
    },
    {
      "cell_type": "markdown",
      "source": "### Plotar matriz de confusão",
      "metadata": {}
    },
    {
      "cell_type": "code",
      "source": "plot_confusion_matrix(conf_mx)\nplt.show()",
      "metadata": {},
      "execution_count": null,
      "outputs": []
    }
  ]
}