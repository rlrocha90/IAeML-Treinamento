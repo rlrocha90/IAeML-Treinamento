{
  "metadata": {
    "language_info": {
      "codemirror_mode": {
        "name": "python",
        "version": 3
      },
      "file_extension": ".py",
      "mimetype": "text/x-python",
      "name": "python",
      "nbconvert_exporter": "python",
      "pygments_lexer": "ipython3",
      "version": "3.8"
    },
    "kernelspec": {
      "name": "python",
      "display_name": "Python (Pyodide)",
      "language": "python"
    }
  },
  "nbformat_minor": 4,
  "nbformat": 4,
  "cells": [
    {
      "cell_type": "markdown",
      "source": "# Área sobre a curva",
      "metadata": {}
    },
    {
      "cell_type": "markdown",
      "source": "### Importar dataset Mnist",
      "metadata": {}
    },
    {
      "cell_type": "code",
      "source": "from sklearn.datasets import fetch_openml\nimport numpy as np\n\nmnist = fetch_openml('mnist_784', version=1, cache=True, as_frame=False)\nmnist.target = mnist.target.astype(np.int8)\n\nX, y = mnist[\"data\"], mnist[\"target\"]\n\nnp.save('mnistX', X)\nnp.save('mnisty', y)\n\nX_train, X_test, y_train, y_test = X[:60000], X[60000:], y[:60000], y[60000:]\nshuffle_index = np.random.permutation(60000)\nX_train, y_train = X_train[shuffle_index], y_train[shuffle_index]",
      "metadata": {
        "trusted": true
      },
      "execution_count": null,
      "outputs": []
    },
    {
      "cell_type": "markdown",
      "source": "### Definindo uma classe como verdadeira e demais como falsa",
      "metadata": {}
    },
    {
      "cell_type": "code",
      "source": "y_train_5 = (y_train == 5)\ny_test_5 = (y_test == 5)",
      "metadata": {
        "trusted": true
      },
      "execution_count": null,
      "outputs": []
    },
    {
      "cell_type": "markdown",
      "source": "### Ajustando um classificador e os parâmetros para AUC",
      "metadata": {}
    },
    {
      "cell_type": "code",
      "source": "from sklearn.linear_model import SGDClassifier\nfrom sklearn.metrics import roc_curve\nfrom sklearn.model_selection import cross_val_score, cross_val_predict\n\nsgd_clf = SGDClassifier(loss='sag', max_iter=5, tol=-np.infty, random_state=42)\nsgd_clf.fit(X_train, y_train_5)\ny_scores = cross_val_predict(sgd_clf, X_train, y_train_5, cv=3, method=\"decision_function\")\nfpr, tpr, thresholds = roc_curve(y_train_5, y_scores)",
      "metadata": {
        "trusted": true
      },
      "execution_count": null,
      "outputs": []
    },
    {
      "cell_type": "markdown",
      "source": "### Definindo função para plotar curva ROC",
      "metadata": {}
    },
    {
      "cell_type": "code",
      "source": "def plot_roc_curve(fpr, tpr, label=None):\n    plt.plot(fpr, tpr, linewidth=2, label=label)\n    plt.plot([0, 1], [0, 1], 'k--')\n    plt.axis([0, 1, 0, 1])\n    plt.xlabel('False Positive Rate', fontsize=16)\n    plt.ylabel('True Positive Rate', fontsize=16)",
      "metadata": {
        "trusted": true
      },
      "execution_count": null,
      "outputs": []
    },
    {
      "cell_type": "markdown",
      "source": "### Plotar a curva ROC e o score AUC",
      "metadata": {}
    },
    {
      "cell_type": "code",
      "source": "import matplotlib.pyplot as plt\nfrom sklearn.metrics import roc_auc_score\n\nplt.figure(figsize=(8, 6))\nplot_roc_curve(fpr, tpr)\nplt.show()\n\nprint(\"ROC AUC Score - SGD-logloss: \", roc_auc_score(y_train_5, y_scores))",
      "metadata": {
        "trusted": true
      },
      "execution_count": null,
      "outputs": []
    },
    {
      "cell_type": "markdown",
      "source": "### Vamos comparar modelos",
      "metadata": {}
    },
    {
      "cell_type": "code",
      "source": "from sklearn.ensemble import RandomForestClassifie\n\nforest_clf = RandomForestClassifier(n_estimators=10, random_state=42)\ny_probas_forest = cross_val_predict(forest_clf, X_train, y_train_5, cv=3,\n                                    method=\"predict_proba\")\ny_scores_forest = y_probas_forest[:, 1] # score = probabilidade de classes positivas\nfpr_forest, tpr_forest, thresholds_forest = roc_curve(y_train_5, y_scores_forest)",
      "metadata": {
        "trusted": true
      },
      "execution_count": null,
      "outputs": []
    },
    {
      "cell_type": "markdown",
      "source": "### Saídas",
      "metadata": {}
    },
    {
      "cell_type": "code",
      "source": "plt.figure(figsize=(8, 6))\nplt.plot(fpr, tpr, \"b:\", linewidth=2, label=\"SGD-sag\")\nplot_roc_curve(fpr_forest, tpr_forest, \"Random Forest\")\nplt.legend(loc=\"lower right\", fontsize=12)\nplt.show()\n\nprint(\"ROC AUC Score - SGD-sag: \", roc_auc_score(y_train_5, y_scores))\nprint(\"ROC AUC Score - RandomForest: \", roc_auc_score(y_train_5, y_scores_forest))",
      "metadata": {},
      "execution_count": null,
      "outputs": []
    }
  ]
}