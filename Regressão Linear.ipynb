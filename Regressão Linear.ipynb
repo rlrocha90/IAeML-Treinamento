{
  "metadata": {
    "language_info": {
      "codemirror_mode": {
        "name": "python",
        "version": 3
      },
      "file_extension": ".py",
      "mimetype": "text/x-python",
      "name": "python",
      "nbconvert_exporter": "python",
      "pygments_lexer": "ipython3",
      "version": "3.8"
    },
    "kernelspec": {
      "name": "python",
      "display_name": "Python (Pyodide)",
      "language": "python"
    }
  },
  "nbformat_minor": 4,
  "nbformat": 4,
  "cells": [
    {
      "cell_type": "markdown",
      "source": "# Regressão Linear",
      "metadata": {}
    },
    {
      "cell_type": "markdown",
      "source": "### Função sintética",
      "metadata": {}
    },
    {
      "cell_type": "code",
      "source": "import numpy as np\n\nX = 2 * np.random.rand(100, 1)\ny = 4 + 3 * X + np.random.randn(100, 1)",
      "metadata": {},
      "execution_count": null,
      "outputs": []
    },
    {
      "cell_type": "markdown",
      "source": "### Mostrar a função",
      "metadata": {}
    },
    {
      "cell_type": "code",
      "source": "import matplotlib.pyplot as plt\n\nplt.plot(X, y, \"b.\")\nplt.xlabel(\"$x_1$\", fontsize=18)\nplt.ylabel(\"$y$\", rotation=0, fontsize=18)\nplt.axis([0, 2, 0, 15])\nplt.title(\"Dados Gerados\")\nplt.show()",
      "metadata": {
        "trusted": true
      },
      "execution_count": 1,
      "outputs": [
        {
          "ename": "<class 'NameError'>",
          "evalue": "name 'X' is not defined",
          "traceback": [
            "\u001b[0;31m---------------------------------------------------------------------------\u001b[0m",
            "\u001b[0;31mNameError\u001b[0m                                 Traceback (most recent call last)",
            "Cell \u001b[0;32mIn [1], line 3\u001b[0m\n\u001b[1;32m      1\u001b[0m \u001b[38;5;28;01mimport\u001b[39;00m \u001b[38;5;21;01mmatplotlib\u001b[39;00m\u001b[38;5;21;01m.\u001b[39;00m\u001b[38;5;21;01mpyplot\u001b[39;00m \u001b[38;5;28;01mas\u001b[39;00m \u001b[38;5;21;01mplt\u001b[39;00m\n\u001b[0;32m----> 3\u001b[0m plt\u001b[38;5;241m.\u001b[39mplot(\u001b[43mX\u001b[49m, y, \u001b[38;5;124m\"\u001b[39m\u001b[38;5;124mb.\u001b[39m\u001b[38;5;124m\"\u001b[39m)\n\u001b[1;32m      4\u001b[0m plt\u001b[38;5;241m.\u001b[39mxlabel(\u001b[38;5;124m\"\u001b[39m\u001b[38;5;124m$x_1$\u001b[39m\u001b[38;5;124m\"\u001b[39m, fontsize\u001b[38;5;241m=\u001b[39m\u001b[38;5;241m18\u001b[39m)\n\u001b[1;32m      5\u001b[0m plt\u001b[38;5;241m.\u001b[39mylabel(\u001b[38;5;124m\"\u001b[39m\u001b[38;5;124m$y$\u001b[39m\u001b[38;5;124m\"\u001b[39m, rotation\u001b[38;5;241m=\u001b[39m\u001b[38;5;241m0\u001b[39m, fontsize\u001b[38;5;241m=\u001b[39m\u001b[38;5;241m18\u001b[39m)\n",
            "\u001b[0;31mNameError\u001b[0m: name 'X' is not defined"
          ],
          "output_type": "error"
        }
      ]
    },
    {
      "cell_type": "markdown",
      "source": "### Definição dos coeficientes via Equação Normal",
      "metadata": {}
    },
    {
      "cell_type": "code",
      "source": "X_b = np.c_[np.ones((100, 1)), X]  # adiciona x0 = 1 a cada uma das 100 instâncias\ntheta_best = np.linalg.inv(X_b.T.dot(X_b)).dot(X_b.T).dot(y) # Pode ser necessário usar pinv()\nprint(\"w0 e w1: \", theta_best)",
      "metadata": {
        "trusted": true
      },
      "execution_count": 2,
      "outputs": [
        {
          "ename": "<class 'NameError'>",
          "evalue": "name 'np' is not defined",
          "traceback": [
            "\u001b[0;31m---------------------------------------------------------------------------\u001b[0m",
            "\u001b[0;31mNameError\u001b[0m                                 Traceback (most recent call last)",
            "Cell \u001b[0;32mIn [2], line 1\u001b[0m\n\u001b[0;32m----> 1\u001b[0m X_b \u001b[38;5;241m=\u001b[39m \u001b[43mnp\u001b[49m\u001b[38;5;241m.\u001b[39mc_[np\u001b[38;5;241m.\u001b[39mones((\u001b[38;5;241m100\u001b[39m, \u001b[38;5;241m1\u001b[39m)), X]  \u001b[38;5;66;03m# adiciona x0 = 1 a cada uma das 100 instâncias\u001b[39;00m\n\u001b[1;32m      2\u001b[0m theta_best \u001b[38;5;241m=\u001b[39m np\u001b[38;5;241m.\u001b[39mlinalg\u001b[38;5;241m.\u001b[39minv(X_b\u001b[38;5;241m.\u001b[39mT\u001b[38;5;241m.\u001b[39mdot(X_b))\u001b[38;5;241m.\u001b[39mdot(X_b\u001b[38;5;241m.\u001b[39mT)\u001b[38;5;241m.\u001b[39mdot(y) \u001b[38;5;66;03m# Pode ser necessário usar pinv()\u001b[39;00m\n\u001b[1;32m      3\u001b[0m \u001b[38;5;28mprint\u001b[39m(\u001b[38;5;124m\"\u001b[39m\u001b[38;5;124mw0 e w1: \u001b[39m\u001b[38;5;124m\"\u001b[39m, theta_best)\n",
            "\u001b[0;31mNameError\u001b[0m: name 'np' is not defined"
          ],
          "output_type": "error"
        }
      ]
    },
    {
      "cell_type": "markdown",
      "source": "### Testar novo ponto na função",
      "metadata": {}
    },
    {
      "cell_type": "code",
      "source": "X_new = np.array([[0], [2]])\nX_new_b = np.c_[np.ones((2, 1)), X_new]  # adiciona x0 = 1 a cada uma das instâncias\ny_predict = X_new_b.dot(theta_best)\n\nprint(\"Saída predita: \", y_predict)",
      "metadata": {
        "trusted": true
      },
      "execution_count": 3,
      "outputs": [
        {
          "ename": "<class 'NameError'>",
          "evalue": "name 'np' is not defined",
          "traceback": [
            "\u001b[0;31m---------------------------------------------------------------------------\u001b[0m",
            "\u001b[0;31mNameError\u001b[0m                                 Traceback (most recent call last)",
            "Cell \u001b[0;32mIn [3], line 1\u001b[0m\n\u001b[0;32m----> 1\u001b[0m X_new \u001b[38;5;241m=\u001b[39m \u001b[43mnp\u001b[49m\u001b[38;5;241m.\u001b[39marray([[\u001b[38;5;241m0\u001b[39m], [\u001b[38;5;241m2\u001b[39m]])\n\u001b[1;32m      2\u001b[0m X_new_b \u001b[38;5;241m=\u001b[39m np\u001b[38;5;241m.\u001b[39mc_[np\u001b[38;5;241m.\u001b[39mones((\u001b[38;5;241m2\u001b[39m, \u001b[38;5;241m1\u001b[39m)), X_new]  \u001b[38;5;66;03m# adiciona x0 = 1 a cada uma das instâncias\u001b[39;00m\n\u001b[1;32m      3\u001b[0m y_predict \u001b[38;5;241m=\u001b[39m X_new_b\u001b[38;5;241m.\u001b[39mdot(theta_best)\n",
            "\u001b[0;31mNameError\u001b[0m: name 'np' is not defined"
          ],
          "output_type": "error"
        }
      ]
    },
    {
      "cell_type": "code",
      "source": "plt.plot(X_new, y_predict, \"r-\")\nplt.plot(X, y, \"b.\")\nplt.axis([0, 2, 0, 15])\nplt.title(\"Modelo linear gereado\")\nplt.show()",
      "metadata": {
        "trusted": true
      },
      "execution_count": 4,
      "outputs": [
        {
          "ename": "<class 'NameError'>",
          "evalue": "name 'X_new' is not defined",
          "traceback": [
            "\u001b[0;31m---------------------------------------------------------------------------\u001b[0m",
            "\u001b[0;31mNameError\u001b[0m                                 Traceback (most recent call last)",
            "Cell \u001b[0;32mIn [4], line 1\u001b[0m\n\u001b[0;32m----> 1\u001b[0m plt\u001b[38;5;241m.\u001b[39mplot(\u001b[43mX_new\u001b[49m, y_predict, \u001b[38;5;124m\"\u001b[39m\u001b[38;5;124mr-\u001b[39m\u001b[38;5;124m\"\u001b[39m)\n\u001b[1;32m      2\u001b[0m plt\u001b[38;5;241m.\u001b[39mplot(X, y, \u001b[38;5;124m\"\u001b[39m\u001b[38;5;124mb.\u001b[39m\u001b[38;5;124m\"\u001b[39m)\n\u001b[1;32m      3\u001b[0m plt\u001b[38;5;241m.\u001b[39maxis([\u001b[38;5;241m0\u001b[39m, \u001b[38;5;241m2\u001b[39m, \u001b[38;5;241m0\u001b[39m, \u001b[38;5;241m15\u001b[39m])\n",
            "\u001b[0;31mNameError\u001b[0m: name 'X_new' is not defined"
          ],
          "output_type": "error"
        }
      ]
    },
    {
      "cell_type": "markdown",
      "source": "### Definição dos coeficientes via função do sklearn",
      "metadata": {}
    },
    {
      "cell_type": "code",
      "source": "lin_reg = LinearRegression()\nlin_reg.fit(X, y)\nypred = lin_reg.predict(X)\nprint(\"wo e w1: \", lin_reg.intercept_, lin_reg.coef_)\n\nprint(\"Saída Predita: \", lin_reg.predict(X_new))",
      "metadata": {},
      "execution_count": null,
      "outputs": []
    }
  ]
}