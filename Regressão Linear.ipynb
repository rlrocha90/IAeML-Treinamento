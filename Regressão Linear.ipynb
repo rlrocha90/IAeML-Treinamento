{
  "metadata": {
    "language_info": {
      "codemirror_mode": {
        "name": "python",
        "version": 3
      },
      "file_extension": ".py",
      "mimetype": "text/x-python",
      "name": "python",
      "nbconvert_exporter": "python",
      "pygments_lexer": "ipython3",
      "version": "3.8"
    },
    "kernelspec": {
      "name": "python",
      "display_name": "Python (Pyodide)",
      "language": "python"
    }
  },
  "nbformat_minor": 4,
  "nbformat": 4,
  "cells": [
    {
      "cell_type": "markdown",
      "source": "# Regressão Linear",
      "metadata": {}
    },
    {
      "cell_type": "markdown",
      "source": "### Função sintética",
      "metadata": {}
    },
    {
      "cell_type": "code",
      "source": "import numpy as np\n\nX = 2 * np.random.rand(100, 1)\ny = 4 + 3 * X + np.random.randn(100, 1)",
      "metadata": {
        "trusted": true
      },
      "execution_count": null,
      "outputs": []
    },
    {
      "cell_type": "markdown",
      "source": "### Mostrar a função",
      "metadata": {}
    },
    {
      "cell_type": "code",
      "source": "import matplotlib.pyplot as plt\n\nplt.plot(X, y, \"b.\")\nplt.xlabel(\"$x_1$\", fontsize=18)\nplt.ylabel(\"$y$\", rotation=0, fontsize=18)\nplt.axis([0, 2, 0, 15])\nplt.title(\"Dados Gerados\")\nplt.show()",
      "metadata": {
        "trusted": true
      },
      "execution_count": null,
      "outputs": []
    },
    {
      "cell_type": "markdown",
      "source": "### Definição dos coeficientes via Equação Normal",
      "metadata": {}
    },
    {
      "cell_type": "code",
      "source": "X_b = np.c_[np.ones((100, 1)), X]  # adiciona x0 = 1 a cada uma das 100 instâncias\ntheta_best = np.linalg.inv(X_b.T.dot(X_b)).dot(X_b.T).dot(y) # Pode ser necessário usar pinv()\nprint(\"w0 e w1: \", theta_best)",
      "metadata": {
        "trusted": true
      },
      "execution_count": null,
      "outputs": []
    },
    {
      "cell_type": "markdown",
      "source": "### Testar novo ponto na função",
      "metadata": {}
    },
    {
      "cell_type": "code",
      "source": "X_new = np.array([[0], [2]])\nX_new_b = np.c_[np.ones((2, 1)), X_new]  # adiciona x0 = 1 a cada uma das instâncias\ny_predict = X_new_b.dot(theta_best)\n\nprint(\"Saída predita: \", y_predict)",
      "metadata": {
        "trusted": true
      },
      "execution_count": null,
      "outputs": []
    },
    {
      "cell_type": "code",
      "source": "plt.plot(X_new, y_predict, \"r-\")\nplt.plot(X, y, \"b.\")\nplt.axis([0, 2, 0, 15])\nplt.title(\"Modelo linear gereado\")\nplt.show()",
      "metadata": {
        "trusted": true
      },
      "execution_count": null,
      "outputs": []
    },
    {
      "cell_type": "markdown",
      "source": "### Definição dos coeficientes via função do sklearn",
      "metadata": {}
    },
    {
      "cell_type": "code",
      "source": "from sklearn.linear_model import LinearRegression\n\nlin_reg = LinearRegression()\nlin_reg.fit(X, y)\nypred = lin_reg.predict(X)\nprint(\"wo e w1: \", lin_reg.intercept_, lin_reg.coef_)\n\nprint(\"Saída Predita: \", lin_reg.predict(X_new))",
      "metadata": {},
      "execution_count": null,
      "outputs": []
    }
  ]
}